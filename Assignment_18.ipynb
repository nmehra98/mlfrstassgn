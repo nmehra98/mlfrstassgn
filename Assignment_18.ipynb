{
  "nbformat": 4,
  "nbformat_minor": 0,
  "metadata": {
    "colab": {
      "name": "Assignment_18.ipynb",
      "version": "0.3.2",
      "provenance": [],
      "include_colab_link": true
    }
  },
  "cells": [
    {
      "cell_type": "markdown",
      "metadata": {
        "id": "view-in-github",
        "colab_type": "text"
      },
      "source": [
        "[View in Colaboratory](https://colab.research.google.com/github/nmehra98/mlfrstassgn/blob/master/Assignment_18.ipynb)"
      ]
    },
    {
      "metadata": {
        "id": "GhMRSscbcv5z",
        "colab_type": "code",
        "colab": {
          "base_uri": "https://localhost:8080/",
          "height": 34
        },
        "outputId": "c0311b04-adbf-4572-a3f8-a8e2509ffb09"
      },
      "cell_type": "code",
      "source": [
        "# Question 1\n",
        "\n",
        "#u = a * b\n",
        "#v = a * c\n",
        "#w = b + c\n",
        "#F = u + v - w\n",
        "\n",
        "#F = ab + ac - (b+c)\n",
        "#F = a(b+c) - (b+c)\n",
        "#F = (b+c)(a-1)\n",
        "\n",
        "print(\" F = (b+c)(a-1)\")"
      ],
      "execution_count": 2,
      "outputs": [
        {
          "output_type": "stream",
          "text": [
            " F = (b+c)(a-1)\n"
          ],
          "name": "stdout"
        }
      ]
    },
    {
      "metadata": {
        "id": "MsYHIkSEgoCY",
        "colab_type": "code",
        "colab": {
          "base_uri": "https://localhost:8080/",
          "height": 34
        },
        "outputId": "3c7d4021-1f2d-4b23-a3c7-253ee52fc49a"
      },
      "cell_type": "code",
      "source": [
        "# Question 2\n",
        "\n",
        "# Inputs \n",
        "\n",
        "x0 = -0.06\n",
        "x1 = -2.5\n",
        "x2 = 1.4\n",
        "\n",
        "# Weights\n",
        "\n",
        "w0 = 2.7\n",
        "w1 = -8.6\n",
        "w2 = 0.002\n",
        "\n",
        "X = (w0 * x0) + (w1 * x1) + (w2 * x2)\n",
        "X"
      ],
      "execution_count": 3,
      "outputs": [
        {
          "output_type": "execute_result",
          "data": {
            "text/plain": [
              "21.3408"
            ]
          },
          "metadata": {
            "tags": []
          },
          "execution_count": 3
        }
      ]
    },
    {
      "metadata": {
        "id": "kI5VpgBjizM6",
        "colab_type": "code",
        "colab": {}
      },
      "cell_type": "code",
      "source": [
        "import math"
      ],
      "execution_count": 0,
      "outputs": []
    },
    {
      "metadata": {
        "id": "l323sjIijSbG",
        "colab_type": "code",
        "colab": {
          "base_uri": "https://localhost:8080/",
          "height": 34
        },
        "outputId": "e4142f56-828b-4d15-c1ef-a6a50b2cbcd3"
      },
      "cell_type": "code",
      "source": [
        "fX = 1 / (1 + math.exp(-X))\n",
        "fX"
      ],
      "execution_count": 6,
      "outputs": [
        {
          "output_type": "execute_result",
          "data": {
            "text/plain": [
              "0.9999999994607274"
            ]
          },
          "metadata": {
            "tags": []
          },
          "execution_count": 6
        }
      ]
    },
    {
      "metadata": {
        "id": "Y3uPjJMPjgwi",
        "colab_type": "code",
        "colab": {
          "base_uri": "https://localhost:8080/",
          "height": 34
        },
        "outputId": "3f211f82-40fe-426e-ab98-6e307bc9061c"
      },
      "cell_type": "code",
      "source": [
        "b = -1.1\n",
        "\n",
        "newX = X + b\n",
        "newX"
      ],
      "execution_count": 7,
      "outputs": [
        {
          "output_type": "execute_result",
          "data": {
            "text/plain": [
              "20.2408"
            ]
          },
          "metadata": {
            "tags": []
          },
          "execution_count": 7
        }
      ]
    },
    {
      "metadata": {
        "id": "U-ZIQnx8j1r7",
        "colab_type": "code",
        "colab": {
          "base_uri": "https://localhost:8080/",
          "height": 34
        },
        "outputId": "12c26705-56a2-4468-cc35-719397799e03"
      },
      "cell_type": "code",
      "source": [
        "fX = 1 / (1 + math.exp(-newX))\n",
        "fX"
      ],
      "execution_count": 8,
      "outputs": [
        {
          "output_type": "execute_result",
          "data": {
            "text/plain": [
              "0.9999999983799357"
            ]
          },
          "metadata": {
            "tags": []
          },
          "execution_count": 8
        }
      ]
    },
    {
      "metadata": {
        "id": "CUYwAT5Aj62N",
        "colab_type": "code",
        "colab": {}
      },
      "cell_type": "code",
      "source": [
        "# Bias does not affect much at the value."
      ],
      "execution_count": 0,
      "outputs": []
    }
  ]
}