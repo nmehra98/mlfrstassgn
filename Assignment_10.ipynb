{
  "nbformat": 4,
  "nbformat_minor": 0,
  "metadata": {
    "colab": {
      "name": "Assignment 10.ipynb",
      "version": "0.3.2",
      "provenance": [],
      "include_colab_link": true
    }
  },
  "cells": [
    {
      "cell_type": "markdown",
      "metadata": {
        "id": "view-in-github",
        "colab_type": "text"
      },
      "source": [
        "[View in Colaboratory](https://colab.research.google.com/github/nmehra98/mlfrstassgn/blob/master/Assignment_10.ipynb)"
      ]
    },
    {
      "metadata": {
        "id": "j2BLlTvvL9Te",
        "colab_type": "code",
        "colab": {}
      },
      "cell_type": "code",
      "source": [
        "import matplotlib.pyplot as plt\n",
        "import seaborn as sns\n",
        "import pandas as pd\n",
        "import numpy as np\n",
        "from sklearn.preprocessing import*\n",
        "%matplotlib inline"
      ],
      "execution_count": 0,
      "outputs": []
    },
    {
      "metadata": {
        "id": "SbQ_3gAuMG2b",
        "colab_type": "code",
        "colab": {}
      },
      "cell_type": "code",
      "source": [
        "#Question 1\n",
        "\n",
        "from sklearn.datasets import load_digits"
      ],
      "execution_count": 0,
      "outputs": []
    },
    {
      "metadata": {
        "id": "NzzwZBVEZmpj",
        "colab_type": "code",
        "colab": {}
      },
      "cell_type": "code",
      "source": [
        "#Question 2\n",
        "\n",
        "digit=load_digits()\n",
        "x=digit.data\n",
        "y=digit.target"
      ],
      "execution_count": 0,
      "outputs": []
    },
    {
      "metadata": {
        "id": "PI_Wqy4NYncK",
        "colab_type": "code",
        "colab": {
          "base_uri": "https://localhost:8080/",
          "height": 34
        },
        "outputId": "a63abf2a-cc5f-4f68-c9d0-2f2c828a3718"
      },
      "cell_type": "code",
      "source": [
        "x.shape,y.shape"
      ],
      "execution_count": 3,
      "outputs": [
        {
          "output_type": "execute_result",
          "data": {
            "text/plain": [
              "((1797, 64), (1797,))"
            ]
          },
          "metadata": {
            "tags": []
          },
          "execution_count": 3
        }
      ]
    },
    {
      "metadata": {
        "id": "KYoKlRZ6YrvH",
        "colab_type": "code",
        "colab": {
          "base_uri": "https://localhost:8080/",
          "height": 282
        },
        "outputId": "cb244376-261a-4628-965d-7ccd9bc05eaa"
      },
      "cell_type": "code",
      "source": [
        "#x[3] gives figure of 3 and reshape the fig of 64 pixels into 8,8\n",
        "\n",
        "plt.imshow(x[3].reshape(8,8),cmap=plt.cm.gray)"
      ],
      "execution_count": 6,
      "outputs": [
        {
          "output_type": "execute_result",
          "data": {
            "text/plain": [
              "<matplotlib.image.AxesImage at 0x7efc717a4610>"
            ]
          },
          "metadata": {
            "tags": []
          },
          "execution_count": 6
        },
        {
          "output_type": "display_data",
          "data": {
            "image/png": "[encoded data removed]",
            "text/plain": [
              "<matplotlib.figure.Figure at 0x7efc71843810>"
            ]
          },
          "metadata": {
            "tags": []
          }
        }
      ]
    },
    {
      "metadata": {
        "id": "mHNbENjpZJOo",
        "colab_type": "code",
        "colab": {}
      },
      "cell_type": "code",
      "source": [
        "#Question 3\n",
        "\n",
        "from sklearn.model_selection import train_test_split\n",
        "x_train,x_test,y_train,y_test=train_test_split(x,y,test_size=0.3)"
      ],
      "execution_count": 0,
      "outputs": []
    },
    {
      "metadata": {
        "id": "XJppbG25azs4",
        "colab_type": "code",
        "colab": {
          "base_uri": "https://localhost:8080/",
          "height": 85
        },
        "outputId": "6d1f7bef-3a6b-4725-eb1b-e97a96c199f1"
      },
      "cell_type": "code",
      "source": [
        "#Question 4\n",
        "\n",
        "from sklearn.linear_model import LogisticRegression\n",
        "regressor=LogisticRegression()\n",
        "regressor.fit(x_train,y_train)"
      ],
      "execution_count": 10,
      "outputs": [
        {
          "output_type": "execute_result",
          "data": {
            "text/plain": [
              "LogisticRegression(C=1.0, class_weight=None, dual=False, fit_intercept=True,\n",
              "          intercept_scaling=1, max_iter=100, multi_class='ovr', n_jobs=1,\n",
              "          penalty='l2', random_state=None, solver='liblinear', tol=0.0001,\n",
              "          verbose=0, warm_start=False)"
            ]
          },
          "metadata": {
            "tags": []
          },
          "execution_count": 10
        }
      ]
    },
    {
      "metadata": {
        "id": "9UTKV0jJb7QG",
        "colab_type": "code",
        "colab": {
          "base_uri": "https://localhost:8080/",
          "height": 442
        },
        "outputId": "e6dae29e-4aa8-4f7a-b069-9d7201ce1347"
      },
      "cell_type": "code",
      "source": [
        "a=regressor.predict(x_test)\n",
        "a"
      ],
      "execution_count": 11,
      "outputs": [
        {
          "output_type": "execute_result",
          "data": {
            "text/plain": [
              "array([7, 1, 9, 0, 1, 4, 7, 7, 4, 4, 8, 7, 9, 8, 4, 5, 0, 5, 7, 9, 5, 2,\n",
              "       4, 0, 7, 7, 1, 1, 2, 0, 3, 5, 0, 0, 2, 8, 8, 5, 7, 8, 3, 6, 8, 3,\n",
              "       5, 5, 3, 6, 4, 1, 9, 7, 1, 5, 7, 7, 1, 4, 6, 0, 6, 1, 1, 7, 7, 0,\n",
              "       7, 8, 9, 1, 4, 7, 8, 2, 4, 5, 5, 2, 0, 7, 8, 5, 3, 6, 0, 2, 1, 4,\n",
              "       3, 1, 6, 7, 0, 1, 8, 6, 3, 7, 2, 3, 2, 8, 9, 0, 1, 2, 4, 6, 0, 8,\n",
              "       0, 9, 9, 3, 6, 3, 9, 6, 5, 1, 1, 6, 7, 4, 1, 2, 1, 4, 1, 2, 7, 0,\n",
              "       0, 9, 9, 3, 0, 9, 1, 3, 7, 9, 1, 3, 3, 8, 9, 9, 1, 8, 3, 2, 2, 3,\n",
              "       1, 9, 9, 5, 1, 6, 5, 9, 0, 1, 0, 2, 2, 2, 0, 1, 3, 3, 7, 6, 1, 6,\n",
              "       1, 7, 6, 1, 1, 5, 2, 6, 6, 4, 9, 5, 1, 9, 4, 7, 5, 6, 1, 4, 7, 9,\n",
              "       3, 8, 2, 5, 3, 3, 4, 4, 1, 0, 9, 6, 6, 6, 9, 3, 6, 0, 0, 7, 5, 7,\n",
              "       6, 2, 4, 4, 2, 4, 6, 0, 7, 9, 8, 1, 8, 8, 3, 5, 1, 2, 5, 7, 8, 2,\n",
              "       4, 4, 7, 6, 4, 8, 1, 3, 5, 0, 6, 0, 7, 3, 1, 7, 1, 3, 7, 5, 6, 2,\n",
              "       9, 7, 5, 2, 5, 9, 7, 3, 6, 0, 1, 3, 5, 0, 9, 6, 7, 5, 7, 8, 1, 8,\n",
              "       7, 6, 3, 4, 6, 9, 4, 2, 4, 6, 1, 2, 5, 5, 6, 1, 5, 2, 3, 8, 8, 0,\n",
              "       0, 1, 4, 2, 0, 2, 4, 1, 8, 6, 8, 5, 3, 6, 7, 1, 8, 5, 8, 4, 5, 9,\n",
              "       2, 6, 3, 0, 0, 9, 1, 5, 8, 9, 3, 4, 3, 3, 3, 7, 3, 9, 5, 4, 3, 2,\n",
              "       0, 2, 5, 4, 7, 0, 9, 8, 4, 2, 6, 1, 6, 0, 1, 9, 1, 8, 6, 5, 6, 0,\n",
              "       9, 1, 4, 1, 4, 9, 4, 3, 3, 6, 1, 5, 4, 8, 8, 6, 0, 2, 4, 9, 7, 6,\n",
              "       5, 6, 3, 0, 2, 5, 9, 9, 9, 0, 8, 9, 7, 5, 3, 7, 7, 0, 4, 6, 7, 6,\n",
              "       9, 6, 7, 5, 7, 3, 5, 4, 0, 1, 6, 8, 3, 0, 0, 6, 9, 4, 9, 9, 4, 8,\n",
              "       0, 1, 4, 3, 4, 2, 5, 6, 6, 8, 1, 3, 9, 1, 8, 9, 7, 1, 0, 0, 5, 2,\n",
              "       4, 2, 4, 3, 9, 3, 4, 7, 9, 6, 9, 1, 8, 7, 7, 6, 9, 6, 1, 6, 6, 9,\n",
              "       7, 2, 1, 7, 7, 9, 3, 1, 5, 5, 0, 0, 7, 4, 3, 9, 6, 1, 3, 2, 2, 3,\n",
              "       2, 9, 6, 9, 1, 4, 0, 2, 0, 5, 2, 2, 3, 5, 6, 3, 5, 7, 4, 8, 0, 5,\n",
              "       5, 8, 8, 5, 3, 1, 2, 0, 3, 6, 1, 2])"
            ]
          },
          "metadata": {
            "tags": []
          },
          "execution_count": 11
        }
      ]
    },
    {
      "metadata": {
        "id": "q_xy9Z3CcUP_",
        "colab_type": "code",
        "colab": {
          "base_uri": "https://localhost:8080/",
          "height": 1969
        },
        "outputId": "7b5c333f-d8da-4cc4-fe07-0c5b9e03acbb"
      },
      "cell_type": "code",
      "source": [
        "z=pd.DataFrame({\"Actual\":y_test,\"predicted\":a})\n",
        "z"
      ],
      "execution_count": 12,
      "outputs": [
        {
          "output_type": "execute_result",
          "data": {
            "text/html": [
              "<div>\n",
              "<style scoped>\n",
              "    .dataframe tbody tr th:only-of-type {\n",
              "        vertical-align: middle;\n",
              "    }\n",
              "\n",
              "    .dataframe tbody tr th {\n",
              "        vertical-align: top;\n",
              "    }\n",
              "\n",
              "    .dataframe thead th {\n",
              "        text-align: right;\n",
              "    }\n",
              "</style>\n",
              "<table border=\"1\" class=\"dataframe\">\n",
              "  <thead>\n",
              "    <tr style=\"text-align: right;\">\n",
              "      <th></th>\n",
              "      <th>Actual</th>\n",
              "      <th>predicted</th>\n",
              "    </tr>\n",
              "  </thead>\n",
              "  <tbody>\n",
              "    <tr>\n",
              "      <th>0</th>\n",
              "      <td>7</td>\n",
              "      <td>7</td>\n",
              "    </tr>\n",
              "    <tr>\n",
              "      <th>1</th>\n",
              "      <td>1</td>\n",
              "      <td>1</td>\n",
              "    </tr>\n",
              "    <tr>\n",
              "      <th>2</th>\n",
              "      <td>9</td>\n",
              "      <td>9</td>\n",
              "    </tr>\n",
              "    <tr>\n",
              "      <th>3</th>\n",
              "      <td>0</td>\n",
              "      <td>0</td>\n",
              "    </tr>\n",
              "    <tr>\n",
              "      <th>4</th>\n",
              "      <td>1</td>\n",
              "      <td>1</td>\n",
              "    </tr>\n",
              "    <tr>\n",
              "      <th>5</th>\n",
              "      <td>4</td>\n",
              "      <td>4</td>\n",
              "    </tr>\n",
              "    <tr>\n",
              "      <th>6</th>\n",
              "      <td>7</td>\n",
              "      <td>7</td>\n",
              "    </tr>\n",
              "    <tr>\n",
              "      <th>7</th>\n",
              "      <td>7</td>\n",
              "      <td>7</td>\n",
              "    </tr>\n",
              "    <tr>\n",
              "      <th>8</th>\n",
              "      <td>4</td>\n",
              "      <td>4</td>\n",
              "    </tr>\n",
              "    <tr>\n",
              "      <th>9</th>\n",
              "      <td>4</td>\n",
              "      <td>4</td>\n",
              "    </tr>\n",
              "    <tr>\n",
              "      <th>10</th>\n",
              "      <td>8</td>\n",
              "      <td>8</td>\n",
              "    </tr>\n",
              "    <tr>\n",
              "      <th>11</th>\n",
              "      <td>7</td>\n",
              "      <td>7</td>\n",
              "    </tr>\n",
              "    <tr>\n",
              "      <th>12</th>\n",
              "      <td>9</td>\n",
              "      <td>9</td>\n",
              "    </tr>\n",
              "    <tr>\n",
              "      <th>13</th>\n",
              "      <td>8</td>\n",
              "      <td>8</td>\n",
              "    </tr>\n",
              "    <tr>\n",
              "      <th>14</th>\n",
              "      <td>4</td>\n",
              "      <td>4</td>\n",
              "    </tr>\n",
              "    <tr>\n",
              "      <th>15</th>\n",
              "      <td>5</td>\n",
              "      <td>5</td>\n",
              "    </tr>\n",
              "    <tr>\n",
              "      <th>16</th>\n",
              "      <td>0</td>\n",
              "      <td>0</td>\n",
              "    </tr>\n",
              "    <tr>\n",
              "      <th>17</th>\n",
              "      <td>5</td>\n",
              "      <td>5</td>\n",
              "    </tr>\n",
              "    <tr>\n",
              "      <th>18</th>\n",
              "      <td>7</td>\n",
              "      <td>7</td>\n",
              "    </tr>\n",
              "    <tr>\n",
              "      <th>19</th>\n",
              "      <td>9</td>\n",
              "      <td>9</td>\n",
              "    </tr>\n",
              "    <tr>\n",
              "      <th>20</th>\n",
              "      <td>5</td>\n",
              "      <td>5</td>\n",
              "    </tr>\n",
              "    <tr>\n",
              "      <th>21</th>\n",
              "      <td>2</td>\n",
              "      <td>2</td>\n",
              "    </tr>\n",
              "    <tr>\n",
              "      <th>22</th>\n",
              "      <td>4</td>\n",
              "      <td>4</td>\n",
              "    </tr>\n",
              "    <tr>\n",
              "      <th>23</th>\n",
              "      <td>0</td>\n",
              "      <td>0</td>\n",
              "    </tr>\n",
              "    <tr>\n",
              "      <th>24</th>\n",
              "      <td>7</td>\n",
              "      <td>7</td>\n",
              "    </tr>\n",
              "    <tr>\n",
              "      <th>25</th>\n",
              "      <td>7</td>\n",
              "      <td>7</td>\n",
              "    </tr>\n",
              "    <tr>\n",
              "      <th>26</th>\n",
              "      <td>1</td>\n",
              "      <td>1</td>\n",
              "    </tr>\n",
              "    <tr>\n",
              "      <th>27</th>\n",
              "      <td>1</td>\n",
              "      <td>1</td>\n",
              "    </tr>\n",
              "    <tr>\n",
              "      <th>28</th>\n",
              "      <td>2</td>\n",
              "      <td>2</td>\n",
              "    </tr>\n",
              "    <tr>\n",
              "      <th>29</th>\n",
              "      <td>0</td>\n",
              "      <td>0</td>\n",
              "    </tr>\n",
              "    <tr>\n",
              "      <th>...</th>\n",
              "      <td>...</td>\n",
              "      <td>...</td>\n",
              "    </tr>\n",
              "    <tr>\n",
              "      <th>510</th>\n",
              "      <td>1</td>\n",
              "      <td>1</td>\n",
              "    </tr>\n",
              "    <tr>\n",
              "      <th>511</th>\n",
              "      <td>4</td>\n",
              "      <td>4</td>\n",
              "    </tr>\n",
              "    <tr>\n",
              "      <th>512</th>\n",
              "      <td>0</td>\n",
              "      <td>0</td>\n",
              "    </tr>\n",
              "    <tr>\n",
              "      <th>513</th>\n",
              "      <td>2</td>\n",
              "      <td>2</td>\n",
              "    </tr>\n",
              "    <tr>\n",
              "      <th>514</th>\n",
              "      <td>0</td>\n",
              "      <td>0</td>\n",
              "    </tr>\n",
              "    <tr>\n",
              "      <th>515</th>\n",
              "      <td>5</td>\n",
              "      <td>5</td>\n",
              "    </tr>\n",
              "    <tr>\n",
              "      <th>516</th>\n",
              "      <td>2</td>\n",
              "      <td>2</td>\n",
              "    </tr>\n",
              "    <tr>\n",
              "      <th>517</th>\n",
              "      <td>2</td>\n",
              "      <td>2</td>\n",
              "    </tr>\n",
              "    <tr>\n",
              "      <th>518</th>\n",
              "      <td>3</td>\n",
              "      <td>3</td>\n",
              "    </tr>\n",
              "    <tr>\n",
              "      <th>519</th>\n",
              "      <td>5</td>\n",
              "      <td>5</td>\n",
              "    </tr>\n",
              "    <tr>\n",
              "      <th>520</th>\n",
              "      <td>6</td>\n",
              "      <td>6</td>\n",
              "    </tr>\n",
              "    <tr>\n",
              "      <th>521</th>\n",
              "      <td>3</td>\n",
              "      <td>3</td>\n",
              "    </tr>\n",
              "    <tr>\n",
              "      <th>522</th>\n",
              "      <td>5</td>\n",
              "      <td>5</td>\n",
              "    </tr>\n",
              "    <tr>\n",
              "      <th>523</th>\n",
              "      <td>7</td>\n",
              "      <td>7</td>\n",
              "    </tr>\n",
              "    <tr>\n",
              "      <th>524</th>\n",
              "      <td>4</td>\n",
              "      <td>4</td>\n",
              "    </tr>\n",
              "    <tr>\n",
              "      <th>525</th>\n",
              "      <td>8</td>\n",
              "      <td>8</td>\n",
              "    </tr>\n",
              "    <tr>\n",
              "      <th>526</th>\n",
              "      <td>0</td>\n",
              "      <td>0</td>\n",
              "    </tr>\n",
              "    <tr>\n",
              "      <th>527</th>\n",
              "      <td>5</td>\n",
              "      <td>5</td>\n",
              "    </tr>\n",
              "    <tr>\n",
              "      <th>528</th>\n",
              "      <td>5</td>\n",
              "      <td>5</td>\n",
              "    </tr>\n",
              "    <tr>\n",
              "      <th>529</th>\n",
              "      <td>8</td>\n",
              "      <td>8</td>\n",
              "    </tr>\n",
              "    <tr>\n",
              "      <th>530</th>\n",
              "      <td>8</td>\n",
              "      <td>8</td>\n",
              "    </tr>\n",
              "    <tr>\n",
              "      <th>531</th>\n",
              "      <td>5</td>\n",
              "      <td>5</td>\n",
              "    </tr>\n",
              "    <tr>\n",
              "      <th>532</th>\n",
              "      <td>3</td>\n",
              "      <td>3</td>\n",
              "    </tr>\n",
              "    <tr>\n",
              "      <th>533</th>\n",
              "      <td>1</td>\n",
              "      <td>1</td>\n",
              "    </tr>\n",
              "    <tr>\n",
              "      <th>534</th>\n",
              "      <td>2</td>\n",
              "      <td>2</td>\n",
              "    </tr>\n",
              "    <tr>\n",
              "      <th>535</th>\n",
              "      <td>0</td>\n",
              "      <td>0</td>\n",
              "    </tr>\n",
              "    <tr>\n",
              "      <th>536</th>\n",
              "      <td>3</td>\n",
              "      <td>3</td>\n",
              "    </tr>\n",
              "    <tr>\n",
              "      <th>537</th>\n",
              "      <td>6</td>\n",
              "      <td>6</td>\n",
              "    </tr>\n",
              "    <tr>\n",
              "      <th>538</th>\n",
              "      <td>1</td>\n",
              "      <td>1</td>\n",
              "    </tr>\n",
              "    <tr>\n",
              "      <th>539</th>\n",
              "      <td>2</td>\n",
              "      <td>2</td>\n",
              "    </tr>\n",
              "  </tbody>\n",
              "</table>\n",
              "<p>540 rows × 2 columns</p>\n",
              "</div>"
            ],
            "text/plain": [
              "     Actual  predicted\n",
              "0         7          7\n",
              "1         1          1\n",
              "2         9          9\n",
              "3         0          0\n",
              "4         1          1\n",
              "5         4          4\n",
              "6         7          7\n",
              "7         7          7\n",
              "8         4          4\n",
              "9         4          4\n",
              "10        8          8\n",
              "11        7          7\n",
              "12        9          9\n",
              "13        8          8\n",
              "14        4          4\n",
              "15        5          5\n",
              "16        0          0\n",
              "17        5          5\n",
              "18        7          7\n",
              "19        9          9\n",
              "20        5          5\n",
              "21        2          2\n",
              "22        4          4\n",
              "23        0          0\n",
              "24        7          7\n",
              "25        7          7\n",
              "26        1          1\n",
              "27        1          1\n",
              "28        2          2\n",
              "29        0          0\n",
              "..      ...        ...\n",
              "510       1          1\n",
              "511       4          4\n",
              "512       0          0\n",
              "513       2          2\n",
              "514       0          0\n",
              "515       5          5\n",
              "516       2          2\n",
              "517       2          2\n",
              "518       3          3\n",
              "519       5          5\n",
              "520       6          6\n",
              "521       3          3\n",
              "522       5          5\n",
              "523       7          7\n",
              "524       4          4\n",
              "525       8          8\n",
              "526       0          0\n",
              "527       5          5\n",
              "528       5          5\n",
              "529       8          8\n",
              "530       8          8\n",
              "531       5          5\n",
              "532       3          3\n",
              "533       1          1\n",
              "534       2          2\n",
              "535       0          0\n",
              "536       3          3\n",
              "537       6          6\n",
              "538       1          1\n",
              "539       2          2\n",
              "\n",
              "[540 rows x 2 columns]"
            ]
          },
          "metadata": {
            "tags": []
          },
          "execution_count": 12
        }
      ]
    },
    {
      "metadata": {
        "id": "aIqOgX5Ya-P0",
        "colab_type": "code",
        "colab": {
          "base_uri": "https://localhost:8080/",
          "height": 34
        },
        "outputId": "65dae129-94a5-49e7-d8d1-ed48baf6f0f1"
      },
      "cell_type": "code",
      "source": [
        "#Question 5\n",
        "\n",
        "# A\n",
        "\n",
        "from sklearn.metrics import accuracy_score\n",
        "\n",
        "accuracy_score(y_test,a)"
      ],
      "execution_count": 13,
      "outputs": [
        {
          "output_type": "execute_result",
          "data": {
            "text/plain": [
              "0.9666666666666667"
            ]
          },
          "metadata": {
            "tags": []
          },
          "execution_count": 13
        }
      ]
    },
    {
      "metadata": {
        "id": "hFfMA_LBc0kN",
        "colab_type": "code",
        "colab": {
          "base_uri": "https://localhost:8080/",
          "height": 51
        },
        "outputId": "f672ad99-7f25-4faa-b374-231ad24d943a"
      },
      "cell_type": "code",
      "source": [
        "from sklearn.model_selection import KFold\n",
        "from sklearn import model_selection\n",
        "\n",
        "Kfold=model_selection.KFold\n",
        "Kfold =model_selection.KFold(n_splits=10,random_state=7)\n",
        "\n",
        "result=model_selection.cross_val_score(regressor,x,y,cv=Kfold,scoring=\"accuracy\")\n",
        "result"
      ],
      "execution_count": 14,
      "outputs": [
        {
          "output_type": "execute_result",
          "data": {
            "text/plain": [
              "array([0.90555556, 0.95      , 0.89444444, 0.91666667, 0.94444444,\n",
              "       0.97222222, 0.97777778, 0.95530726, 0.8603352 , 0.93854749])"
            ]
          },
          "metadata": {
            "tags": []
          },
          "execution_count": 14
        }
      ]
    },
    {
      "metadata": {
        "id": "lTyPk80idnaz",
        "colab_type": "code",
        "colab": {
          "base_uri": "https://localhost:8080/",
          "height": 34
        },
        "outputId": "087399c1-5be8-413f-adc2-d845e850b6b2"
      },
      "cell_type": "code",
      "source": [
        "result.sum()/10"
      ],
      "execution_count": 15,
      "outputs": [
        {
          "output_type": "execute_result",
          "data": {
            "text/plain": [
              "0.931530105524519"
            ]
          },
          "metadata": {
            "tags": []
          },
          "execution_count": 15
        }
      ]
    },
    {
      "metadata": {
        "id": "mr4Fxn5edzAG",
        "colab_type": "code",
        "colab": {
          "base_uri": "https://localhost:8080/",
          "height": 51
        },
        "outputId": "8b96f39b-37c5-4993-99af-7e7fb92be8ca"
      },
      "cell_type": "code",
      "source": [
        "# B\n",
        "\n",
        "result=model_selection.cross_val_score(regressor,x,y,cv=Kfold,scoring=\"neg_log_loss\")\n",
        "result"
      ],
      "execution_count": 16,
      "outputs": [
        {
          "output_type": "execute_result",
          "data": {
            "text/plain": [
              "array([-0.45796113, -0.14428745, -0.61735969, -0.27291931, -0.27570248,\n",
              "       -0.12812984, -0.11026563, -0.12333717, -0.62608068, -0.68630958])"
            ]
          },
          "metadata": {
            "tags": []
          },
          "execution_count": 16
        }
      ]
    },
    {
      "metadata": {
        "id": "pmcQR1fld-F0",
        "colab_type": "code",
        "colab": {
          "base_uri": "https://localhost:8080/",
          "height": 34
        },
        "outputId": "bfda32b7-5c08-4779-8d2a-7a75e87b5d27"
      },
      "cell_type": "code",
      "source": [
        "result.sum()/10"
      ],
      "execution_count": 17,
      "outputs": [
        {
          "output_type": "execute_result",
          "data": {
            "text/plain": [
              "-0.3442352960205238"
            ]
          },
          "metadata": {
            "tags": []
          },
          "execution_count": 17
        }
      ]
    },
    {
      "metadata": {
        "id": "E0DtMnf_eDu-",
        "colab_type": "code",
        "colab": {
          "base_uri": "https://localhost:8080/",
          "height": 187
        },
        "outputId": "0fe3cd33-dde8-466a-8bee-2c041dab3ad2"
      },
      "cell_type": "code",
      "source": [
        "# F\n",
        "\n",
        "from sklearn.metrics import confusion_matrix\n",
        "\n",
        "confusion_matrix(y_test,a)"
      ],
      "execution_count": 18,
      "outputs": [
        {
          "output_type": "execute_result",
          "data": {
            "text/plain": [
              "array([[53,  0,  0,  0,  0,  0,  0,  0,  0,  0],\n",
              "       [ 0, 59,  0,  1,  0,  0,  0,  0,  0,  0],\n",
              "       [ 0,  0, 46,  0,  0,  0,  0,  0,  0,  0],\n",
              "       [ 0,  0,  0, 54,  0,  1,  0,  1,  0,  1],\n",
              "       [ 0,  1,  0,  0, 51,  0,  1,  0,  0,  0],\n",
              "       [ 0,  0,  1,  0,  0, 51,  0,  0,  0,  1],\n",
              "       [ 0,  0,  0,  0,  0,  0, 59,  0,  0,  0],\n",
              "       [ 0,  2,  0,  0,  0,  0,  0, 56,  0,  1],\n",
              "       [ 0,  3,  0,  0,  0,  0,  0,  0, 40,  0],\n",
              "       [ 0,  0,  0,  1,  0,  1,  0,  0,  2, 53]])"
            ]
          },
          "metadata": {
            "tags": []
          },
          "execution_count": 18
        }
      ]
    },
    {
      "metadata": {
        "id": "r0XuLjpjednl",
        "colab_type": "code",
        "colab": {
          "base_uri": "https://localhost:8080/",
          "height": 272
        },
        "outputId": "ccab8520-109c-4448-d89d-0fefc37753f8"
      },
      "cell_type": "code",
      "source": [
        "# G\n",
        "\n",
        "from sklearn.metrics import classification_report\n",
        "\n",
        "print(classification_report(y_test,a))"
      ],
      "execution_count": 19,
      "outputs": [
        {
          "output_type": "stream",
          "text": [
            "             precision    recall  f1-score   support\n",
            "\n",
            "          0       1.00      1.00      1.00        53\n",
            "          1       0.91      0.98      0.94        60\n",
            "          2       0.98      1.00      0.99        46\n",
            "          3       0.96      0.95      0.96        57\n",
            "          4       1.00      0.96      0.98        53\n",
            "          5       0.96      0.96      0.96        53\n",
            "          6       0.98      1.00      0.99        59\n",
            "          7       0.98      0.95      0.97        59\n",
            "          8       0.95      0.93      0.94        43\n",
            "          9       0.95      0.93      0.94        57\n",
            "\n",
            "avg / total       0.97      0.97      0.97       540\n",
            "\n"
          ],
          "name": "stdout"
        }
      ]
    },
    {
      "metadata": {
        "id": "KP2v8VFLeqDm",
        "colab_type": "code",
        "colab": {
          "base_uri": "https://localhost:8080/",
          "height": 34
        },
        "outputId": "9fe1d93b-8b88-4653-9bb8-4c25523ac53c"
      },
      "cell_type": "code",
      "source": [
        "# Linear Regression\n",
        "\n",
        "from sklearn.linear_model import LinearRegression\n",
        "reg=LinearRegression()\n",
        "reg.fit(x_train,y_train)"
      ],
      "execution_count": 21,
      "outputs": [
        {
          "output_type": "execute_result",
          "data": {
            "text/plain": [
              "LinearRegression(copy_X=True, fit_intercept=True, n_jobs=1, normalize=False)"
            ]
          },
          "metadata": {
            "tags": []
          },
          "execution_count": 21
        }
      ]
    },
    {
      "metadata": {
        "id": "vLsgn4-ofpTI",
        "colab_type": "code",
        "colab": {
          "base_uri": "https://localhost:8080/",
          "height": 1853
        },
        "outputId": "2ecf199f-b7ca-47ab-9e6c-62b7100fd58f"
      },
      "cell_type": "code",
      "source": [
        "b=reg.predict(x_test)\n",
        "b"
      ],
      "execution_count": 22,
      "outputs": [
        {
          "output_type": "execute_result",
          "data": {
            "text/plain": [
              "array([ 8.12238874,  2.73269701,  6.73405285,  1.33453374,  2.12011146,\n",
              "        2.37843955,  6.70709314,  5.62938311,  5.09494269,  6.157593  ,\n",
              "        6.29504952,  7.37996123,  5.11696109,  6.72065867,  5.27355024,\n",
              "        3.38181482,  3.04807676,  3.94009614,  6.70377655,  8.54313083,\n",
              "        6.12437864,  2.99206865,  3.09235997,  2.79151256,  6.38398998,\n",
              "        6.78413284,  2.38185243,  3.91907853,  2.03497962,  0.90043557,\n",
              "        4.94066332,  4.43232906,  0.81187028,  3.34310642, -0.95301863,\n",
              "        4.24696853,  4.16248438,  1.91904064,  7.87288008,  8.00093374,\n",
              "        1.81871331,  6.58232663,  4.2279329 ,  4.52419928,  7.24301775,\n",
              "        4.99805344,  4.10611631,  5.05096683,  1.25672409,  3.43046033,\n",
              "        6.4578902 ,  6.87437447,  0.5284553 ,  1.63561574,  5.57268039,\n",
              "        5.99985212,  3.59836014,  4.99116678,  5.73660577,  1.19743384,\n",
              "        5.77115995,  0.65567459,  2.75578135,  5.1734985 ,  7.41292863,\n",
              "        0.14286788,  6.37350813,  5.62616428,  7.89813741,  3.93274197,\n",
              "        5.09429475,  6.36745787,  7.58822323,  2.17483712,  3.59719049,\n",
              "        5.97015849,  1.07371167,  3.29613594, -2.20362278,  7.73911321,\n",
              "        6.49155595,  3.89996039,  0.01383263,  5.50784452,  0.40896336,\n",
              "        1.75914995,  3.60176207,  1.45290245,  4.20347127,  0.61062293,\n",
              "        5.00678004,  7.28540057,  3.12470043,  4.25414007,  4.03014885,\n",
              "        5.46207445,  5.00029286,  4.34974457, -2.91845236,  3.06619869,\n",
              "        1.20798328,  9.18763251,  7.05224187,  1.83316572,  0.85504085,\n",
              "        0.85056719,  3.8011591 ,  6.59419011,  2.37703803,  7.40815989,\n",
              "        0.89221481,  7.59229467,  7.79437233,  4.01913501,  7.15107645,\n",
              "        3.72189295,  5.63427426,  5.51760626,  5.34085466,  3.85449379,\n",
              "        2.73648118,  4.12223538,  6.05053969,  4.29210964,  1.66090924,\n",
              "        2.34857599,  2.96424895,  3.43339501,  3.90965521,  1.64864222,\n",
              "        8.02743696,  1.29403906,  0.49992955,  8.06627154,  3.64683616,\n",
              "        6.37417157,  2.60421515,  9.17596228,  2.74320545,  4.24717191,\n",
              "        7.43700402,  4.27819627,  7.97095628,  5.06904833,  3.25920108,\n",
              "        4.86575802,  6.9808521 ,  9.81349643,  2.24866793,  8.8456006 ,\n",
              "        7.27869012,  1.7409436 ,  1.58124404,  4.71919271,  3.38462126,\n",
              "        7.46491644,  3.93543579,  5.33052804,  3.18413184,  5.36016814,\n",
              "        3.37119895,  8.23910364,  0.67843465,  3.17192852,  2.09530645,\n",
              "        3.00169413,  0.4662612 ,  1.75211633,  1.48162394,  1.32918278,\n",
              "        0.67086654,  5.01994243,  6.439793  ,  4.53706337,  2.15525316,\n",
              "        4.59425707,  4.69258225,  3.82965806,  6.8351027 ,  2.97545044,\n",
              "        2.54949679,  8.21234778,  1.0365202 ,  6.20861095,  3.68621644,\n",
              "        3.74393359,  7.68360872,  5.36088381,  2.68960621,  7.3182018 ,\n",
              "        2.50373751,  5.71631293,  6.60380009,  3.25284396,  3.02620215,\n",
              "        3.56677043,  5.43417327,  8.15425011,  6.18501106,  4.57755913,\n",
              "        2.46269481,  4.79034935,  4.43342745,  5.10597968,  5.00029909,\n",
              "        4.04010901,  3.52371328, -0.24581559,  7.33265917,  5.80880135,\n",
              "        4.17028409,  5.83571677,  5.74331386,  1.49112774,  5.79681145,\n",
              "        1.11892623,  2.76505865,  6.68685079,  5.89940015,  5.83300043,\n",
              "        3.67543533,  1.9458869 ,  4.89584001,  2.28384556,  2.78499548,\n",
              "        3.23245601,  5.74269493,  2.51419722,  6.1392993 ,  7.86544283,\n",
              "        5.61864472,  2.64477765,  8.26407607,  5.360902  ,  3.77790009,\n",
              "        5.57768817,  3.19056119,  1.99851887,  4.74563697,  8.70933597,\n",
              "        6.91138211,  0.39745939,  3.71795234,  3.58592456,  6.80030129,\n",
              "        5.11220231,  1.09740226,  7.69442649,  2.74119788,  4.74365085,\n",
              "        5.54287277,  0.74758297,  4.16092708,  2.05546806,  7.83732199,\n",
              "        3.22673431,  2.86959548,  3.87835971,  2.74828962,  1.37195363,\n",
              "        5.72365301,  5.72590663,  4.08704613,  0.81733433,  5.47434488,\n",
              "        6.85832112,  7.16554777, -0.22791704,  4.57785587,  5.80650714,\n",
              "        6.31027932,  5.05105832,  4.34609171,  2.26154295,  1.95521519,\n",
              "        7.70900451,  5.11944323,  1.24827949,  9.00608718,  4.86356151,\n",
              "        5.1537396 ,  6.19610575,  3.25196218,  7.43866648,  8.28983504,\n",
              "        8.5746261 ,  3.80454811,  4.55912158,  2.05640683,  2.57977495,\n",
              "        4.44451067,  6.79363837,  3.83309496,  2.01896691,  4.58240398,\n",
              "        2.91529026,  2.55792226,  2.41581028,  4.89648332,  5.54914822,\n",
              "        3.86020669,  2.27531361,  4.38779274,  1.55595749,  6.04599797,\n",
              "        5.35216943,  5.68724626,  2.07997092,  0.13641341,  2.56998991,\n",
              "        2.84536871,  3.40766069,  1.91534405,  3.25885192,  5.4261275 ,\n",
              "        2.44995871,  5.71846169,  6.49237724,  6.67917368,  5.03197122,\n",
              "        4.3637204 ,  5.56539243,  8.07515454,  3.25657034,  6.21576224,\n",
              "        5.56992115,  7.50871326,  4.48877034,  6.72874373,  8.61615872,\n",
              "        2.80775927,  5.99670934,  1.5250241 ,  1.13967717,  1.52864386,\n",
              "        6.86517953,  6.67885467,  5.16683858,  7.34919622,  5.29708365,\n",
              "        5.39844727,  2.64639645,  4.37828022,  3.23644937,  3.35565633,\n",
              "        5.76201172,  5.95745613,  3.95546434,  3.36092612,  3.48032344,\n",
              "        0.75657243,  1.9281512 ,  0.13438868,  3.04884627,  6.31258153,\n",
              "        6.22717896,  6.19633475,  1.91034513,  8.36482112,  7.80534777,\n",
              "        4.41752324,  1.79749842,  6.2804529 ,  1.39140387,  4.70003062,\n",
              "        1.21075451,  1.09687162,  5.16299598,  4.10713952,  7.4290906 ,\n",
              "        4.43601167,  4.79860314,  4.80099165,  3.14979674,  7.04686801,\n",
              "        1.27118887,  4.12876437,  3.86999293,  3.69768844,  8.49309653,\n",
              "        5.40825653,  4.93397462,  3.69603442,  5.94190715,  3.63577563,\n",
              "        6.81700629,  1.70713528,  8.52664876,  8.28116741,  4.8306127 ,\n",
              "        3.59587284,  0.84719395,  3.95210834,  4.60054393,  6.02332567,\n",
              "        4.98381768, -1.27415182,  5.45937597,  3.31030948, -0.40486093,\n",
              "        1.51104917,  5.77478225,  5.26794359,  6.94368091,  7.93202124,\n",
              "        1.24389203,  6.77167913,  7.46377072,  5.62114417,  2.65737925,\n",
              "        0.61148494,  7.15256611,  5.16546266,  1.68663075,  2.04486   ,\n",
              "        5.21467298,  7.43869559,  5.82703698,  8.51178711,  6.1981068 ,\n",
              "        7.10234436,  4.39249991,  7.54367718,  3.55297209,  5.39335134,\n",
              "        3.23525954,  1.26428745,  3.48299958,  4.46178231,  6.16816589,\n",
              "        5.15400012,  0.81731451, -0.1791295 ,  4.20569663,  6.91551948,\n",
              "        4.00739137,  6.26166958,  8.38368409,  4.05310062,  5.20493835,\n",
              "        3.19740362,  5.73110653,  3.98591398,  5.55148116,  5.0130002 ,\n",
              "        0.19880447,  3.65163339,  5.20987911,  4.49100716,  6.335431  ,\n",
              "        0.99583745,  5.25793188,  9.35497643,  1.84036105,  6.11010604,\n",
              "        9.07241929,  5.49258797,  3.8440001 ,  1.25097677,  0.57539938,\n",
              "        5.36152615,  3.77557512,  2.79811561,  4.05897993,  3.18599552,\n",
              "        3.12229931,  7.12394556,  4.42299311,  5.54228427,  6.79167616,\n",
              "        6.66435121,  4.2314398 ,  6.13782432,  2.10048993,  1.97359421,\n",
              "        6.20693034,  7.92864266,  3.53457978,  7.23762287,  4.76822739,\n",
              "        2.48816261,  3.47787536,  3.71961711,  7.88265948,  5.84773143,\n",
              "        0.8338867 ,  5.55935951,  4.90798077,  6.52005235,  3.33943915,\n",
              "        3.47466204,  4.73928764,  3.71787572,  4.6338817 ,  0.28073656,\n",
              "        3.41714729,  7.3562775 ,  4.39149339,  5.30525325,  4.42011288,\n",
              "        4.50884605,  3.70749097,  5.10855433,  0.27439062,  2.52707929,\n",
              "        4.47244952,  1.65682393,  8.2720038 ,  0.80386357,  7.39060158,\n",
              "        2.74014536,  4.19686814,  0.61287718,  1.8360714 , -0.06031644,\n",
              "        5.76032053,  2.34330074,  2.48248217,  3.0380361 ,  3.90291097,\n",
              "        6.81591286,  4.66212576,  3.47714127,  7.24276414,  2.33672766,\n",
              "        8.77465579,  1.57574873,  6.2332167 ,  3.21160107, 10.22338093,\n",
              "        6.05110742,  3.77665703,  2.1522043 ,  2.88346764,  0.48906504,\n",
              "        1.28841495,  1.28967577,  4.63636561,  5.31603153,  3.19611483])"
            ]
          },
          "metadata": {
            "tags": []
          },
          "execution_count": 22
        }
      ]
    },
    {
      "metadata": {
        "id": "NH905J5xf67S",
        "colab_type": "code",
        "colab": {
          "base_uri": "https://localhost:8080/",
          "height": 1969
        },
        "outputId": "45ce38f8-739b-4865-d0e4-34517e96cbb3"
      },
      "cell_type": "code",
      "source": [
        "c=pd.DataFrame({\"Actual\":y_test,\"predicted\":b})\n",
        "c"
      ],
      "execution_count": 23,
      "outputs": [
        {
          "output_type": "execute_result",
          "data": {
            "text/html": [
              "<div>\n",
              "<style scoped>\n",
              "    .dataframe tbody tr th:only-of-type {\n",
              "        vertical-align: middle;\n",
              "    }\n",
              "\n",
              "    .dataframe tbody tr th {\n",
              "        vertical-align: top;\n",
              "    }\n",
              "\n",
              "    .dataframe thead th {\n",
              "        text-align: right;\n",
              "    }\n",
              "</style>\n",
              "<table border=\"1\" class=\"dataframe\">\n",
              "  <thead>\n",
              "    <tr style=\"text-align: right;\">\n",
              "      <th></th>\n",
              "      <th>Actual</th>\n",
              "      <th>predicted</th>\n",
              "    </tr>\n",
              "  </thead>\n",
              "  <tbody>\n",
              "    <tr>\n",
              "      <th>0</th>\n",
              "      <td>7</td>\n",
              "      <td>8.122389</td>\n",
              "    </tr>\n",
              "    <tr>\n",
              "      <th>1</th>\n",
              "      <td>1</td>\n",
              "      <td>2.732697</td>\n",
              "    </tr>\n",
              "    <tr>\n",
              "      <th>2</th>\n",
              "      <td>9</td>\n",
              "      <td>6.734053</td>\n",
              "    </tr>\n",
              "    <tr>\n",
              "      <th>3</th>\n",
              "      <td>0</td>\n",
              "      <td>1.334534</td>\n",
              "    </tr>\n",
              "    <tr>\n",
              "      <th>4</th>\n",
              "      <td>1</td>\n",
              "      <td>2.120111</td>\n",
              "    </tr>\n",
              "    <tr>\n",
              "      <th>5</th>\n",
              "      <td>4</td>\n",
              "      <td>2.378440</td>\n",
              "    </tr>\n",
              "    <tr>\n",
              "      <th>6</th>\n",
              "      <td>7</td>\n",
              "      <td>6.707093</td>\n",
              "    </tr>\n",
              "    <tr>\n",
              "      <th>7</th>\n",
              "      <td>7</td>\n",
              "      <td>5.629383</td>\n",
              "    </tr>\n",
              "    <tr>\n",
              "      <th>8</th>\n",
              "      <td>4</td>\n",
              "      <td>5.094943</td>\n",
              "    </tr>\n",
              "    <tr>\n",
              "      <th>9</th>\n",
              "      <td>4</td>\n",
              "      <td>6.157593</td>\n",
              "    </tr>\n",
              "    <tr>\n",
              "      <th>10</th>\n",
              "      <td>8</td>\n",
              "      <td>6.295050</td>\n",
              "    </tr>\n",
              "    <tr>\n",
              "      <th>11</th>\n",
              "      <td>7</td>\n",
              "      <td>7.379961</td>\n",
              "    </tr>\n",
              "    <tr>\n",
              "      <th>12</th>\n",
              "      <td>9</td>\n",
              "      <td>5.116961</td>\n",
              "    </tr>\n",
              "    <tr>\n",
              "      <th>13</th>\n",
              "      <td>8</td>\n",
              "      <td>6.720659</td>\n",
              "    </tr>\n",
              "    <tr>\n",
              "      <th>14</th>\n",
              "      <td>4</td>\n",
              "      <td>5.273550</td>\n",
              "    </tr>\n",
              "    <tr>\n",
              "      <th>15</th>\n",
              "      <td>5</td>\n",
              "      <td>3.381815</td>\n",
              "    </tr>\n",
              "    <tr>\n",
              "      <th>16</th>\n",
              "      <td>0</td>\n",
              "      <td>3.048077</td>\n",
              "    </tr>\n",
              "    <tr>\n",
              "      <th>17</th>\n",
              "      <td>5</td>\n",
              "      <td>3.940096</td>\n",
              "    </tr>\n",
              "    <tr>\n",
              "      <th>18</th>\n",
              "      <td>7</td>\n",
              "      <td>6.703777</td>\n",
              "    </tr>\n",
              "    <tr>\n",
              "      <th>19</th>\n",
              "      <td>9</td>\n",
              "      <td>8.543131</td>\n",
              "    </tr>\n",
              "    <tr>\n",
              "      <th>20</th>\n",
              "      <td>5</td>\n",
              "      <td>6.124379</td>\n",
              "    </tr>\n",
              "    <tr>\n",
              "      <th>21</th>\n",
              "      <td>2</td>\n",
              "      <td>2.992069</td>\n",
              "    </tr>\n",
              "    <tr>\n",
              "      <th>22</th>\n",
              "      <td>4</td>\n",
              "      <td>3.092360</td>\n",
              "    </tr>\n",
              "    <tr>\n",
              "      <th>23</th>\n",
              "      <td>0</td>\n",
              "      <td>2.791513</td>\n",
              "    </tr>\n",
              "    <tr>\n",
              "      <th>24</th>\n",
              "      <td>7</td>\n",
              "      <td>6.383990</td>\n",
              "    </tr>\n",
              "    <tr>\n",
              "      <th>25</th>\n",
              "      <td>7</td>\n",
              "      <td>6.784133</td>\n",
              "    </tr>\n",
              "    <tr>\n",
              "      <th>26</th>\n",
              "      <td>1</td>\n",
              "      <td>2.381852</td>\n",
              "    </tr>\n",
              "    <tr>\n",
              "      <th>27</th>\n",
              "      <td>1</td>\n",
              "      <td>3.919079</td>\n",
              "    </tr>\n",
              "    <tr>\n",
              "      <th>28</th>\n",
              "      <td>2</td>\n",
              "      <td>2.034980</td>\n",
              "    </tr>\n",
              "    <tr>\n",
              "      <th>29</th>\n",
              "      <td>0</td>\n",
              "      <td>0.900436</td>\n",
              "    </tr>\n",
              "    <tr>\n",
              "      <th>...</th>\n",
              "      <td>...</td>\n",
              "      <td>...</td>\n",
              "    </tr>\n",
              "    <tr>\n",
              "      <th>510</th>\n",
              "      <td>1</td>\n",
              "      <td>2.740145</td>\n",
              "    </tr>\n",
              "    <tr>\n",
              "      <th>511</th>\n",
              "      <td>4</td>\n",
              "      <td>4.196868</td>\n",
              "    </tr>\n",
              "    <tr>\n",
              "      <th>512</th>\n",
              "      <td>0</td>\n",
              "      <td>0.612877</td>\n",
              "    </tr>\n",
              "    <tr>\n",
              "      <th>513</th>\n",
              "      <td>2</td>\n",
              "      <td>1.836071</td>\n",
              "    </tr>\n",
              "    <tr>\n",
              "      <th>514</th>\n",
              "      <td>0</td>\n",
              "      <td>-0.060316</td>\n",
              "    </tr>\n",
              "    <tr>\n",
              "      <th>515</th>\n",
              "      <td>5</td>\n",
              "      <td>5.760321</td>\n",
              "    </tr>\n",
              "    <tr>\n",
              "      <th>516</th>\n",
              "      <td>2</td>\n",
              "      <td>2.343301</td>\n",
              "    </tr>\n",
              "    <tr>\n",
              "      <th>517</th>\n",
              "      <td>2</td>\n",
              "      <td>2.482482</td>\n",
              "    </tr>\n",
              "    <tr>\n",
              "      <th>518</th>\n",
              "      <td>3</td>\n",
              "      <td>3.038036</td>\n",
              "    </tr>\n",
              "    <tr>\n",
              "      <th>519</th>\n",
              "      <td>5</td>\n",
              "      <td>3.902911</td>\n",
              "    </tr>\n",
              "    <tr>\n",
              "      <th>520</th>\n",
              "      <td>6</td>\n",
              "      <td>6.815913</td>\n",
              "    </tr>\n",
              "    <tr>\n",
              "      <th>521</th>\n",
              "      <td>3</td>\n",
              "      <td>4.662126</td>\n",
              "    </tr>\n",
              "    <tr>\n",
              "      <th>522</th>\n",
              "      <td>5</td>\n",
              "      <td>3.477141</td>\n",
              "    </tr>\n",
              "    <tr>\n",
              "      <th>523</th>\n",
              "      <td>7</td>\n",
              "      <td>7.242764</td>\n",
              "    </tr>\n",
              "    <tr>\n",
              "      <th>524</th>\n",
              "      <td>4</td>\n",
              "      <td>2.336728</td>\n",
              "    </tr>\n",
              "    <tr>\n",
              "      <th>525</th>\n",
              "      <td>8</td>\n",
              "      <td>8.774656</td>\n",
              "    </tr>\n",
              "    <tr>\n",
              "      <th>526</th>\n",
              "      <td>0</td>\n",
              "      <td>1.575749</td>\n",
              "    </tr>\n",
              "    <tr>\n",
              "      <th>527</th>\n",
              "      <td>5</td>\n",
              "      <td>6.233217</td>\n",
              "    </tr>\n",
              "    <tr>\n",
              "      <th>528</th>\n",
              "      <td>5</td>\n",
              "      <td>3.211601</td>\n",
              "    </tr>\n",
              "    <tr>\n",
              "      <th>529</th>\n",
              "      <td>8</td>\n",
              "      <td>10.223381</td>\n",
              "    </tr>\n",
              "    <tr>\n",
              "      <th>530</th>\n",
              "      <td>8</td>\n",
              "      <td>6.051107</td>\n",
              "    </tr>\n",
              "    <tr>\n",
              "      <th>531</th>\n",
              "      <td>5</td>\n",
              "      <td>3.776657</td>\n",
              "    </tr>\n",
              "    <tr>\n",
              "      <th>532</th>\n",
              "      <td>3</td>\n",
              "      <td>2.152204</td>\n",
              "    </tr>\n",
              "    <tr>\n",
              "      <th>533</th>\n",
              "      <td>1</td>\n",
              "      <td>2.883468</td>\n",
              "    </tr>\n",
              "    <tr>\n",
              "      <th>534</th>\n",
              "      <td>2</td>\n",
              "      <td>0.489065</td>\n",
              "    </tr>\n",
              "    <tr>\n",
              "      <th>535</th>\n",
              "      <td>0</td>\n",
              "      <td>1.288415</td>\n",
              "    </tr>\n",
              "    <tr>\n",
              "      <th>536</th>\n",
              "      <td>3</td>\n",
              "      <td>1.289676</td>\n",
              "    </tr>\n",
              "    <tr>\n",
              "      <th>537</th>\n",
              "      <td>6</td>\n",
              "      <td>4.636366</td>\n",
              "    </tr>\n",
              "    <tr>\n",
              "      <th>538</th>\n",
              "      <td>1</td>\n",
              "      <td>5.316032</td>\n",
              "    </tr>\n",
              "    <tr>\n",
              "      <th>539</th>\n",
              "      <td>2</td>\n",
              "      <td>3.196115</td>\n",
              "    </tr>\n",
              "  </tbody>\n",
              "</table>\n",
              "<p>540 rows × 2 columns</p>\n",
              "</div>"
            ],
            "text/plain": [
              "     Actual  predicted\n",
              "0         7   8.122389\n",
              "1         1   2.732697\n",
              "2         9   6.734053\n",
              "3         0   1.334534\n",
              "4         1   2.120111\n",
              "5         4   2.378440\n",
              "6         7   6.707093\n",
              "7         7   5.629383\n",
              "8         4   5.094943\n",
              "9         4   6.157593\n",
              "10        8   6.295050\n",
              "11        7   7.379961\n",
              "12        9   5.116961\n",
              "13        8   6.720659\n",
              "14        4   5.273550\n",
              "15        5   3.381815\n",
              "16        0   3.048077\n",
              "17        5   3.940096\n",
              "18        7   6.703777\n",
              "19        9   8.543131\n",
              "20        5   6.124379\n",
              "21        2   2.992069\n",
              "22        4   3.092360\n",
              "23        0   2.791513\n",
              "24        7   6.383990\n",
              "25        7   6.784133\n",
              "26        1   2.381852\n",
              "27        1   3.919079\n",
              "28        2   2.034980\n",
              "29        0   0.900436\n",
              "..      ...        ...\n",
              "510       1   2.740145\n",
              "511       4   4.196868\n",
              "512       0   0.612877\n",
              "513       2   1.836071\n",
              "514       0  -0.060316\n",
              "515       5   5.760321\n",
              "516       2   2.343301\n",
              "517       2   2.482482\n",
              "518       3   3.038036\n",
              "519       5   3.902911\n",
              "520       6   6.815913\n",
              "521       3   4.662126\n",
              "522       5   3.477141\n",
              "523       7   7.242764\n",
              "524       4   2.336728\n",
              "525       8   8.774656\n",
              "526       0   1.575749\n",
              "527       5   6.233217\n",
              "528       5   3.211601\n",
              "529       8  10.223381\n",
              "530       8   6.051107\n",
              "531       5   3.776657\n",
              "532       3   2.152204\n",
              "533       1   2.883468\n",
              "534       2   0.489065\n",
              "535       0   1.288415\n",
              "536       3   1.289676\n",
              "537       6   4.636366\n",
              "538       1   5.316032\n",
              "539       2   3.196115\n",
              "\n",
              "[540 rows x 2 columns]"
            ]
          },
          "metadata": {
            "tags": []
          },
          "execution_count": 23
        }
      ]
    },
    {
      "metadata": {
        "id": "yY_baYQQgP3u",
        "colab_type": "code",
        "colab": {
          "base_uri": "https://localhost:8080/",
          "height": 51
        },
        "outputId": "5b392f16-8ca2-4df4-cb3b-f22d83d5127b"
      },
      "cell_type": "code",
      "source": [
        "# C\n",
        "\n",
        "from sklearn.model_selection import KFold\n",
        "from sklearn import model_selection\n",
        "\n",
        "Kfold=model_selection.KFold\n",
        "Kfold =model_selection.KFold(n_splits=10,random_state=7)\n",
        "\n",
        "result=model_selection.cross_val_score(regressor,x,y,cv=Kfold,scoring=\"r2\")\n",
        "result"
      ],
      "execution_count": 24,
      "outputs": [
        {
          "output_type": "execute_result",
          "data": {
            "text/plain": [
              "array([0.73184699, 0.86942354, 0.81023661, 0.79423609, 0.82434177,\n",
              "       0.94343263, 0.92524112, 0.90725247, 0.60169024, 0.82555495])"
            ]
          },
          "metadata": {
            "tags": []
          },
          "execution_count": 24
        }
      ]
    },
    {
      "metadata": {
        "id": "mAvoKBcjgwEL",
        "colab_type": "code",
        "colab": {
          "base_uri": "https://localhost:8080/",
          "height": 34
        },
        "outputId": "24505c90-d48f-4358-f456-3a6317d0de30"
      },
      "cell_type": "code",
      "source": [
        "# E\n",
        "\n",
        "from sklearn.metrics import mean_squared_error\n",
        "\n",
        "mean_squared_error(y_test,b)"
      ],
      "execution_count": 25,
      "outputs": [
        {
          "output_type": "execute_result",
          "data": {
            "text/plain": [
              "3.407143129435022"
            ]
          },
          "metadata": {
            "tags": []
          },
          "execution_count": 25
        }
      ]
    },
    {
      "metadata": {
        "id": "5tyG_Fp_hLMq",
        "colab_type": "code",
        "colab": {
          "base_uri": "https://localhost:8080/",
          "height": 34
        },
        "outputId": "3d12320d-6a91-41a7-ddb3-1aeac9673f69"
      },
      "cell_type": "code",
      "source": [
        "# D\n",
        "\n",
        "\n",
        "from sklearn.metrics import mean_absolute_error\n",
        "\n",
        "mean_absolute_error(y_test,b)"
      ],
      "execution_count": 26,
      "outputs": [
        {
          "output_type": "execute_result",
          "data": {
            "text/plain": [
              "1.4444952712170893"
            ]
          },
          "metadata": {
            "tags": []
          },
          "execution_count": 26
        }
      ]
    },
    {
      "metadata": {
        "id": "hE8yS2_8hoXH",
        "colab_type": "code",
        "colab": {}
      },
      "cell_type": "code",
      "source": [
        ""
      ],
      "execution_count": 0,
      "outputs": []
    }
  ]
}