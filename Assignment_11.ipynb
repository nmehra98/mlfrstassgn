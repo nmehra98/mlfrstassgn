{
  "nbformat": 4,
  "nbformat_minor": 0,
  "metadata": {
    "colab": {
      "name": "Assignment 11.ipynb",
      "version": "0.3.2",
      "provenance": [],
      "include_colab_link": true
    }
  },
  "cells": [
    {
      "cell_type": "markdown",
      "metadata": {
        "id": "view-in-github",
        "colab_type": "text"
      },
      "source": [
        "[View in Colaboratory](https://colab.research.google.com/github/nmehra98/mlfrstassgn/blob/master/Assignment_11.ipynb)"
      ]
    },
    {
      "metadata": {
        "id": "aToPHpEpUG8v",
        "colab_type": "code",
        "colab": {
          "base_uri": "https://localhost:8080/",
          "height": 17
        },
        "outputId": "3845741b-0681-4482-a544-b40ebd002994"
      },
      "cell_type": "code",
      "source": [
        "import matplotlib.pyplot as plt\n",
        "import seaborn as sns\n",
        "import pandas as pd\n",
        "import numpy as np\n",
        "from sklearn.preprocessing import*\n",
        "%matplotlib inline"
      ],
      "execution_count": 15,
      "outputs": []
    },
    {
      "metadata": {
        "id": "ZaA89roTUKDh",
        "colab_type": "code",
        "colab": {
          "base_uri": "https://localhost:8080/",
          "height": 37
        },
        "outputId": "fa3cea2f-ee99-4e20-886d-6e25a603e60c"
      },
      "cell_type": "code",
      "source": [
        "from sklearn.datasets import load_digits"
      ],
      "execution_count": 2,
      "outputs": []
    },
    {
      "metadata": {
        "id": "YSDsRoyMUZbY",
        "colab_type": "code",
        "colab": {
          "base_uri": "https://localhost:8080/",
          "height": 17
        },
        "outputId": "9c5b54a5-143c-411e-be05-494ebd2eab57"
      },
      "cell_type": "code",
      "source": [
        "digit=load_digits()\n",
        "x=digit.data\n",
        "y=digit.target"
      ],
      "execution_count": 4,
      "outputs": []
    },
    {
      "metadata": {
        "id": "-xl1scHqUjLO",
        "colab_type": "code",
        "colab": {
          "base_uri": "https://localhost:8080/",
          "height": 34
        },
        "outputId": "9bdf4464-7cee-400a-8a8c-99844122123a"
      },
      "cell_type": "code",
      "source": [
        "x.shape,y.shape"
      ],
      "execution_count": 5,
      "outputs": [
        {
          "output_type": "execute_result",
          "data": {
            "text/plain": [
              "((1797, 64), (1797,))"
            ]
          },
          "metadata": {
            "tags": []
          },
          "execution_count": 5
        }
      ]
    },
    {
      "metadata": {
        "id": "dD1TeOHBUyOB",
        "colab_type": "code",
        "colab": {
          "base_uri": "https://localhost:8080/",
          "height": 282
        },
        "outputId": "2013ef94-d895-41dc-b215-cae2ba00b64d"
      },
      "cell_type": "code",
      "source": [
        "\n",
        "plt.imshow(x[4].reshape(8,8),cmap=plt.cm.gray)"
      ],
      "execution_count": 10,
      "outputs": [
        {
          "output_type": "execute_result",
          "data": {
            "text/plain": [
              "<matplotlib.image.AxesImage at 0x7f484cb0b450>"
            ]
          },
          "metadata": {
            "tags": []
          },
          "execution_count": 10
        },
        {
          "output_type": "display_data",
          "data": {
            "image/png": "[encoded data removed]",
            "text/plain": [
              "<matplotlib.figure.Figure at 0x7f4870e33f90>"
            ]
          },
          "metadata": {
            "tags": []
          }
        }
      ]
    },
    {
      "metadata": {
        "id": "ieG4ShSIU3Qu",
        "colab_type": "code",
        "colab": {
          "base_uri": "https://localhost:8080/",
          "height": 37
        },
        "outputId": "163e553b-797f-4b4f-80c4-375506e061f4"
      },
      "cell_type": "code",
      "source": [
        "from sklearn.model_selection import train_test_split\n",
        "x_train,x_test,y_train,y_test=train_test_split(x,y,test_size=0.3)"
      ],
      "execution_count": 18,
      "outputs": []
    },
    {
      "metadata": {
        "id": "h38XCvumVJA6",
        "colab_type": "code",
        "colab": {
          "base_uri": "https://localhost:8080/",
          "height": 17
        },
        "outputId": "5270587a-f3f7-4799-c2f5-a90df8b23c69"
      },
      "cell_type": "code",
      "source": [
        "from sklearn.neighbors import KNeighborsClassifier"
      ],
      "execution_count": 22,
      "outputs": []
    },
    {
      "metadata": {
        "id": "M7AT3XIiVhCl",
        "colab_type": "code",
        "colab": {
          "base_uri": "https://localhost:8080/",
          "height": 68
        },
        "outputId": "134067db-0b2b-43d4-eb93-5f461fc22797"
      },
      "cell_type": "code",
      "source": [
        "model=KNeighborsClassifier()\n",
        "model.fit(x_train,y_train)"
      ],
      "execution_count": 24,
      "outputs": [
        {
          "output_type": "execute_result",
          "data": {
            "text/plain": [
              "KNeighborsClassifier(algorithm='auto', leaf_size=30, metric='minkowski',\n",
              "           metric_params=None, n_jobs=1, n_neighbors=5, p=2,\n",
              "           weights='uniform')"
            ]
          },
          "metadata": {
            "tags": []
          },
          "execution_count": 24
        }
      ]
    },
    {
      "metadata": {
        "id": "-ogWS6D0Xga0",
        "colab_type": "code",
        "colab": {
          "base_uri": "https://localhost:8080/",
          "height": 442
        },
        "outputId": "6b0fa956-c362-4e11-daf3-aab5cc0ff8ee"
      },
      "cell_type": "code",
      "source": [
        "a=model.predict(x_test)\n",
        "a"
      ],
      "execution_count": 26,
      "outputs": [
        {
          "output_type": "execute_result",
          "data": {
            "text/plain": [
              "array([0, 5, 2, 2, 8, 4, 2, 2, 7, 1, 5, 4, 5, 9, 7, 0, 6, 5, 2, 2, 1, 6,\n",
              "       0, 7, 7, 2, 5, 5, 8, 5, 1, 7, 1, 8, 3, 8, 5, 0, 4, 3, 4, 5, 1, 4,\n",
              "       2, 2, 1, 1, 6, 4, 7, 2, 0, 2, 7, 9, 9, 5, 6, 6, 6, 7, 6, 0, 0, 3,\n",
              "       7, 1, 5, 1, 4, 3, 6, 3, 3, 3, 8, 5, 5, 3, 6, 3, 9, 9, 4, 1, 4, 8,\n",
              "       0, 8, 5, 7, 1, 1, 3, 3, 0, 3, 2, 9, 7, 8, 7, 2, 4, 1, 1, 3, 7, 6,\n",
              "       8, 5, 2, 5, 1, 1, 9, 1, 5, 4, 0, 5, 2, 3, 6, 7, 7, 2, 7, 3, 8, 4,\n",
              "       4, 6, 9, 4, 1, 3, 2, 2, 2, 1, 8, 6, 2, 2, 2, 9, 6, 8, 3, 1, 3, 8,\n",
              "       8, 0, 2, 6, 8, 0, 6, 7, 5, 9, 3, 8, 9, 8, 9, 8, 2, 1, 7, 1, 1, 4,\n",
              "       9, 1, 7, 2, 3, 2, 7, 2, 7, 1, 9, 8, 1, 2, 6, 5, 8, 6, 4, 0, 1, 3,\n",
              "       8, 1, 0, 2, 0, 9, 1, 4, 2, 0, 2, 9, 3, 8, 2, 0, 3, 8, 9, 6, 7, 0,\n",
              "       1, 2, 0, 8, 3, 2, 2, 1, 4, 8, 3, 3, 7, 3, 1, 0, 8, 5, 3, 0, 2, 4,\n",
              "       5, 0, 5, 5, 7, 1, 7, 1, 4, 0, 9, 1, 5, 6, 3, 3, 2, 2, 6, 8, 6, 8,\n",
              "       1, 2, 6, 4, 0, 6, 9, 4, 3, 1, 0, 1, 6, 9, 4, 1, 8, 3, 9, 7, 0, 2,\n",
              "       4, 9, 0, 3, 5, 3, 7, 1, 9, 1, 5, 2, 2, 1, 5, 9, 8, 7, 0, 0, 2, 4,\n",
              "       2, 5, 7, 4, 1, 8, 6, 1, 8, 0, 4, 8, 3, 3, 1, 6, 0, 2, 0, 7, 7, 7,\n",
              "       1, 4, 8, 8, 5, 2, 4, 4, 8, 2, 2, 7, 1, 1, 7, 0, 6, 7, 7, 1, 5, 3,\n",
              "       8, 8, 1, 2, 6, 9, 6, 9, 5, 8, 9, 5, 3, 0, 3, 1, 8, 2, 3, 1, 1, 9,\n",
              "       9, 5, 8, 8, 3, 9, 6, 2, 5, 9, 9, 6, 2, 7, 9, 6, 5, 9, 7, 5, 8, 7,\n",
              "       9, 4, 7, 8, 0, 2, 7, 8, 4, 7, 9, 7, 1, 0, 2, 1, 9, 6, 5, 0, 4, 9,\n",
              "       1, 1, 7, 7, 4, 2, 4, 1, 7, 7, 0, 6, 5, 3, 3, 1, 9, 8, 2, 6, 5, 3,\n",
              "       9, 2, 2, 5, 0, 1, 7, 1, 6, 6, 7, 7, 3, 4, 4, 4, 7, 3, 6, 6, 4, 7,\n",
              "       0, 1, 3, 3, 6, 6, 6, 6, 4, 4, 1, 6, 6, 4, 0, 6, 6, 5, 8, 3, 8, 6,\n",
              "       4, 7, 9, 0, 4, 5, 4, 4, 5, 6, 3, 1, 5, 7, 0, 3, 6, 3, 4, 4, 4, 5,\n",
              "       6, 3, 1, 5, 5, 4, 5, 9, 6, 4, 0, 0, 7, 1, 0, 8, 2, 1, 3, 6, 6, 4,\n",
              "       6, 8, 1, 6, 1, 6, 3, 4, 4, 7, 6, 8])"
            ]
          },
          "metadata": {
            "tags": []
          },
          "execution_count": 26
        }
      ]
    },
    {
      "metadata": {
        "id": "fooH4aOAX2M0",
        "colab_type": "code",
        "colab": {
          "base_uri": "https://localhost:8080/",
          "height": 51
        },
        "outputId": "af510b8f-5bc6-4713-d214-78a777d2f06e"
      },
      "cell_type": "code",
      "source": [
        "from sklearn.model_selection import KFold\n",
        "from sklearn import model_selection\n",
        "\n",
        "Kfold=model_selection.KFold\n",
        "Kfold =model_selection.KFold(n_splits=10,random_state=7)\n",
        "\n",
        "result=model_selection.cross_val_score(model,x,y,cv=Kfold,scoring=\"accuracy\")\n",
        "result"
      ],
      "execution_count": 28,
      "outputs": [
        {
          "output_type": "execute_result",
          "data": {
            "text/plain": [
              "array([0.92777778, 0.98888889, 0.98888889, 0.97777778, 0.96111111,\n",
              "       0.97777778, 0.98888889, 0.98324022, 0.98324022, 0.96089385])"
            ]
          },
          "metadata": {
            "tags": []
          },
          "execution_count": 28
        }
      ]
    },
    {
      "metadata": {
        "id": "lZMESzhBbFYe",
        "colab_type": "code",
        "colab": {
          "base_uri": "https://localhost:8080/",
          "height": 34
        },
        "outputId": "b0b93786-a9db-4fa5-c50c-480ad71adbfe"
      },
      "cell_type": "code",
      "source": [
        "result.sum()/10"
      ],
      "execution_count": 38,
      "outputs": [
        {
          "output_type": "execute_result",
          "data": {
            "text/plain": [
              "0.9738485412787089"
            ]
          },
          "metadata": {
            "tags": []
          },
          "execution_count": 38
        }
      ]
    },
    {
      "metadata": {
        "id": "HKQnp9twYIEF",
        "colab_type": "code",
        "colab": {
          "base_uri": "https://localhost:8080/",
          "height": 272
        },
        "outputId": "24143be0-28c0-439b-f44c-6652e70c629c"
      },
      "cell_type": "code",
      "source": [
        "\n",
        "from sklearn.metrics import classification_report\n",
        "\n",
        "print(classification_report(y_test,a))"
      ],
      "execution_count": 29,
      "outputs": [
        {
          "output_type": "stream",
          "text": [
            "             precision    recall  f1-score   support\n",
            "\n",
            "          0       1.00      1.00      1.00        46\n",
            "          1       0.97      1.00      0.99        67\n",
            "          2       1.00      1.00      1.00        59\n",
            "          3       0.95      1.00      0.97        52\n",
            "          4       1.00      0.95      0.97        57\n",
            "          5       1.00      0.98      0.99        50\n",
            "          6       1.00      1.00      1.00        59\n",
            "          7       0.96      1.00      0.98        54\n",
            "          8       0.98      0.96      0.97        52\n",
            "          9       0.98      0.93      0.95        44\n",
            "\n",
            "avg / total       0.98      0.98      0.98       540\n",
            "\n"
          ],
          "name": "stdout"
        }
      ]
    },
    {
      "metadata": {
        "id": "1z9NdykeYbW5",
        "colab_type": "code",
        "colab": {
          "base_uri": "https://localhost:8080/",
          "height": 1969
        },
        "outputId": "26b063ee-0456-438d-af79-9c1338f9f005"
      },
      "cell_type": "code",
      "source": [
        "z=pd.DataFrame({\"Actual\":y_test,\"predicted\":a})\n",
        "z"
      ],
      "execution_count": 30,
      "outputs": [
        {
          "output_type": "execute_result",
          "data": {
            "text/html": [
              "<div>\n",
              "<style scoped>\n",
              "    .dataframe tbody tr th:only-of-type {\n",
              "        vertical-align: middle;\n",
              "    }\n",
              "\n",
              "    .dataframe tbody tr th {\n",
              "        vertical-align: top;\n",
              "    }\n",
              "\n",
              "    .dataframe thead th {\n",
              "        text-align: right;\n",
              "    }\n",
              "</style>\n",
              "<table border=\"1\" class=\"dataframe\">\n",
              "  <thead>\n",
              "    <tr style=\"text-align: right;\">\n",
              "      <th></th>\n",
              "      <th>Actual</th>\n",
              "      <th>predicted</th>\n",
              "    </tr>\n",
              "  </thead>\n",
              "  <tbody>\n",
              "    <tr>\n",
              "      <th>0</th>\n",
              "      <td>0</td>\n",
              "      <td>0</td>\n",
              "    </tr>\n",
              "    <tr>\n",
              "      <th>1</th>\n",
              "      <td>5</td>\n",
              "      <td>5</td>\n",
              "    </tr>\n",
              "    <tr>\n",
              "      <th>2</th>\n",
              "      <td>2</td>\n",
              "      <td>2</td>\n",
              "    </tr>\n",
              "    <tr>\n",
              "      <th>3</th>\n",
              "      <td>2</td>\n",
              "      <td>2</td>\n",
              "    </tr>\n",
              "    <tr>\n",
              "      <th>4</th>\n",
              "      <td>8</td>\n",
              "      <td>8</td>\n",
              "    </tr>\n",
              "    <tr>\n",
              "      <th>5</th>\n",
              "      <td>4</td>\n",
              "      <td>4</td>\n",
              "    </tr>\n",
              "    <tr>\n",
              "      <th>6</th>\n",
              "      <td>2</td>\n",
              "      <td>2</td>\n",
              "    </tr>\n",
              "    <tr>\n",
              "      <th>7</th>\n",
              "      <td>2</td>\n",
              "      <td>2</td>\n",
              "    </tr>\n",
              "    <tr>\n",
              "      <th>8</th>\n",
              "      <td>7</td>\n",
              "      <td>7</td>\n",
              "    </tr>\n",
              "    <tr>\n",
              "      <th>9</th>\n",
              "      <td>1</td>\n",
              "      <td>1</td>\n",
              "    </tr>\n",
              "    <tr>\n",
              "      <th>10</th>\n",
              "      <td>5</td>\n",
              "      <td>5</td>\n",
              "    </tr>\n",
              "    <tr>\n",
              "      <th>11</th>\n",
              "      <td>4</td>\n",
              "      <td>4</td>\n",
              "    </tr>\n",
              "    <tr>\n",
              "      <th>12</th>\n",
              "      <td>5</td>\n",
              "      <td>5</td>\n",
              "    </tr>\n",
              "    <tr>\n",
              "      <th>13</th>\n",
              "      <td>9</td>\n",
              "      <td>9</td>\n",
              "    </tr>\n",
              "    <tr>\n",
              "      <th>14</th>\n",
              "      <td>7</td>\n",
              "      <td>7</td>\n",
              "    </tr>\n",
              "    <tr>\n",
              "      <th>15</th>\n",
              "      <td>0</td>\n",
              "      <td>0</td>\n",
              "    </tr>\n",
              "    <tr>\n",
              "      <th>16</th>\n",
              "      <td>6</td>\n",
              "      <td>6</td>\n",
              "    </tr>\n",
              "    <tr>\n",
              "      <th>17</th>\n",
              "      <td>5</td>\n",
              "      <td>5</td>\n",
              "    </tr>\n",
              "    <tr>\n",
              "      <th>18</th>\n",
              "      <td>2</td>\n",
              "      <td>2</td>\n",
              "    </tr>\n",
              "    <tr>\n",
              "      <th>19</th>\n",
              "      <td>2</td>\n",
              "      <td>2</td>\n",
              "    </tr>\n",
              "    <tr>\n",
              "      <th>20</th>\n",
              "      <td>1</td>\n",
              "      <td>1</td>\n",
              "    </tr>\n",
              "    <tr>\n",
              "      <th>21</th>\n",
              "      <td>6</td>\n",
              "      <td>6</td>\n",
              "    </tr>\n",
              "    <tr>\n",
              "      <th>22</th>\n",
              "      <td>0</td>\n",
              "      <td>0</td>\n",
              "    </tr>\n",
              "    <tr>\n",
              "      <th>23</th>\n",
              "      <td>7</td>\n",
              "      <td>7</td>\n",
              "    </tr>\n",
              "    <tr>\n",
              "      <th>24</th>\n",
              "      <td>7</td>\n",
              "      <td>7</td>\n",
              "    </tr>\n",
              "    <tr>\n",
              "      <th>25</th>\n",
              "      <td>2</td>\n",
              "      <td>2</td>\n",
              "    </tr>\n",
              "    <tr>\n",
              "      <th>26</th>\n",
              "      <td>5</td>\n",
              "      <td>5</td>\n",
              "    </tr>\n",
              "    <tr>\n",
              "      <th>27</th>\n",
              "      <td>5</td>\n",
              "      <td>5</td>\n",
              "    </tr>\n",
              "    <tr>\n",
              "      <th>28</th>\n",
              "      <td>8</td>\n",
              "      <td>8</td>\n",
              "    </tr>\n",
              "    <tr>\n",
              "      <th>29</th>\n",
              "      <td>5</td>\n",
              "      <td>5</td>\n",
              "    </tr>\n",
              "    <tr>\n",
              "      <th>...</th>\n",
              "      <td>...</td>\n",
              "      <td>...</td>\n",
              "    </tr>\n",
              "    <tr>\n",
              "      <th>510</th>\n",
              "      <td>5</td>\n",
              "      <td>5</td>\n",
              "    </tr>\n",
              "    <tr>\n",
              "      <th>511</th>\n",
              "      <td>4</td>\n",
              "      <td>4</td>\n",
              "    </tr>\n",
              "    <tr>\n",
              "      <th>512</th>\n",
              "      <td>5</td>\n",
              "      <td>5</td>\n",
              "    </tr>\n",
              "    <tr>\n",
              "      <th>513</th>\n",
              "      <td>9</td>\n",
              "      <td>9</td>\n",
              "    </tr>\n",
              "    <tr>\n",
              "      <th>514</th>\n",
              "      <td>6</td>\n",
              "      <td>6</td>\n",
              "    </tr>\n",
              "    <tr>\n",
              "      <th>515</th>\n",
              "      <td>4</td>\n",
              "      <td>4</td>\n",
              "    </tr>\n",
              "    <tr>\n",
              "      <th>516</th>\n",
              "      <td>0</td>\n",
              "      <td>0</td>\n",
              "    </tr>\n",
              "    <tr>\n",
              "      <th>517</th>\n",
              "      <td>0</td>\n",
              "      <td>0</td>\n",
              "    </tr>\n",
              "    <tr>\n",
              "      <th>518</th>\n",
              "      <td>7</td>\n",
              "      <td>7</td>\n",
              "    </tr>\n",
              "    <tr>\n",
              "      <th>519</th>\n",
              "      <td>1</td>\n",
              "      <td>1</td>\n",
              "    </tr>\n",
              "    <tr>\n",
              "      <th>520</th>\n",
              "      <td>0</td>\n",
              "      <td>0</td>\n",
              "    </tr>\n",
              "    <tr>\n",
              "      <th>521</th>\n",
              "      <td>8</td>\n",
              "      <td>8</td>\n",
              "    </tr>\n",
              "    <tr>\n",
              "      <th>522</th>\n",
              "      <td>2</td>\n",
              "      <td>2</td>\n",
              "    </tr>\n",
              "    <tr>\n",
              "      <th>523</th>\n",
              "      <td>1</td>\n",
              "      <td>1</td>\n",
              "    </tr>\n",
              "    <tr>\n",
              "      <th>524</th>\n",
              "      <td>3</td>\n",
              "      <td>3</td>\n",
              "    </tr>\n",
              "    <tr>\n",
              "      <th>525</th>\n",
              "      <td>6</td>\n",
              "      <td>6</td>\n",
              "    </tr>\n",
              "    <tr>\n",
              "      <th>526</th>\n",
              "      <td>6</td>\n",
              "      <td>6</td>\n",
              "    </tr>\n",
              "    <tr>\n",
              "      <th>527</th>\n",
              "      <td>4</td>\n",
              "      <td>4</td>\n",
              "    </tr>\n",
              "    <tr>\n",
              "      <th>528</th>\n",
              "      <td>6</td>\n",
              "      <td>6</td>\n",
              "    </tr>\n",
              "    <tr>\n",
              "      <th>529</th>\n",
              "      <td>4</td>\n",
              "      <td>8</td>\n",
              "    </tr>\n",
              "    <tr>\n",
              "      <th>530</th>\n",
              "      <td>1</td>\n",
              "      <td>1</td>\n",
              "    </tr>\n",
              "    <tr>\n",
              "      <th>531</th>\n",
              "      <td>6</td>\n",
              "      <td>6</td>\n",
              "    </tr>\n",
              "    <tr>\n",
              "      <th>532</th>\n",
              "      <td>1</td>\n",
              "      <td>1</td>\n",
              "    </tr>\n",
              "    <tr>\n",
              "      <th>533</th>\n",
              "      <td>6</td>\n",
              "      <td>6</td>\n",
              "    </tr>\n",
              "    <tr>\n",
              "      <th>534</th>\n",
              "      <td>3</td>\n",
              "      <td>3</td>\n",
              "    </tr>\n",
              "    <tr>\n",
              "      <th>535</th>\n",
              "      <td>4</td>\n",
              "      <td>4</td>\n",
              "    </tr>\n",
              "    <tr>\n",
              "      <th>536</th>\n",
              "      <td>4</td>\n",
              "      <td>4</td>\n",
              "    </tr>\n",
              "    <tr>\n",
              "      <th>537</th>\n",
              "      <td>7</td>\n",
              "      <td>7</td>\n",
              "    </tr>\n",
              "    <tr>\n",
              "      <th>538</th>\n",
              "      <td>6</td>\n",
              "      <td>6</td>\n",
              "    </tr>\n",
              "    <tr>\n",
              "      <th>539</th>\n",
              "      <td>8</td>\n",
              "      <td>8</td>\n",
              "    </tr>\n",
              "  </tbody>\n",
              "</table>\n",
              "<p>540 rows × 2 columns</p>\n",
              "</div>"
            ],
            "text/plain": [
              "     Actual  predicted\n",
              "0         0          0\n",
              "1         5          5\n",
              "2         2          2\n",
              "3         2          2\n",
              "4         8          8\n",
              "5         4          4\n",
              "6         2          2\n",
              "7         2          2\n",
              "8         7          7\n",
              "9         1          1\n",
              "10        5          5\n",
              "11        4          4\n",
              "12        5          5\n",
              "13        9          9\n",
              "14        7          7\n",
              "15        0          0\n",
              "16        6          6\n",
              "17        5          5\n",
              "18        2          2\n",
              "19        2          2\n",
              "20        1          1\n",
              "21        6          6\n",
              "22        0          0\n",
              "23        7          7\n",
              "24        7          7\n",
              "25        2          2\n",
              "26        5          5\n",
              "27        5          5\n",
              "28        8          8\n",
              "29        5          5\n",
              "..      ...        ...\n",
              "510       5          5\n",
              "511       4          4\n",
              "512       5          5\n",
              "513       9          9\n",
              "514       6          6\n",
              "515       4          4\n",
              "516       0          0\n",
              "517       0          0\n",
              "518       7          7\n",
              "519       1          1\n",
              "520       0          0\n",
              "521       8          8\n",
              "522       2          2\n",
              "523       1          1\n",
              "524       3          3\n",
              "525       6          6\n",
              "526       6          6\n",
              "527       4          4\n",
              "528       6          6\n",
              "529       4          8\n",
              "530       1          1\n",
              "531       6          6\n",
              "532       1          1\n",
              "533       6          6\n",
              "534       3          3\n",
              "535       4          4\n",
              "536       4          4\n",
              "537       7          7\n",
              "538       6          6\n",
              "539       8          8\n",
              "\n",
              "[540 rows x 2 columns]"
            ]
          },
          "metadata": {
            "tags": []
          },
          "execution_count": 30
        }
      ]
    },
    {
      "metadata": {
        "id": "8J0eg2rXZVYR",
        "colab_type": "code",
        "colab": {}
      },
      "cell_type": "code",
      "source": [
        ""
      ],
      "execution_count": 0,
      "outputs": []
    }
  ]
}