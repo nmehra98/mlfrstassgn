{
 "cells": [
  {
   "cell_type": "code",
   "execution_count": 1,
   "metadata": {},
   "outputs": [
    {
     "name": "stdout",
     "output_type": "stream",
     "text": [
      "P(A): 0.305556\n",
      "P(B): 0.166667\n",
      "P(A|B): 0.055556\n"
     ]
    },
    {
     "data": {
      "text/plain": [
       "0.0303030303030303"
      ]
     },
     "execution_count": 1,
     "metadata": {},
     "output_type": "execute_result"
    }
   ],
   "source": [
    "#Question 1\n",
    "\n",
    "def prob(A,B,C):\n",
    "    print(\"P(A): %f\"%(A))\n",
    "    print(\"P(B): %f\"%(B))\n",
    "    print(\"P(A|B): %f\"%(C))\n",
    "    cond_prob=(C*B)/A\n",
    "    return cond_prob\n",
    "prob(11.0/36,6.0/36,2.0/36)"
   ]
  },
  {
   "cell_type": "code",
   "execution_count": 2,
   "metadata": {},
   "outputs": [
    {
     "name": "stdout",
     "output_type": "stream",
     "text": [
      "0.583333333333\n"
     ]
    }
   ],
   "source": [
    "#Question 2\n",
    "\n",
    "#bag1 contains 4 white and 6 black balls\n",
    "#bag2 contains 4 white and 3 black balls\n",
    "\n",
    "bag1=1.0/2   #probability of choosing bag1\n",
    "bag2=1.0/2   #probability of choosing bag2\n",
    "\n",
    "black1=6.0/10  #probability of choosing a black ball from bag1\n",
    "black2=3.0/7   ##probability of choosing a black ball from bag2\n",
    "\n",
    "prob1 = (bag1*black1)/((bag1*black1)+(bag2*black2))   #probability that black ball is drawn from bag1\n",
    "\n",
    "print(prob1)"
   ]
  },
  {
   "cell_type": "code",
   "execution_count": 3,
   "metadata": {},
   "outputs": [
    {
     "name": "stdout",
     "output_type": "stream",
     "text": [
      "0.285714285714\n"
     ]
    }
   ],
   "source": [
    "#Question 3\n",
    "\n",
    "\n",
    "truth=2.0/3   # probability that man speaks truth\n",
    "lie=1.0/3     # probability that man speaks lie\n",
    "\n",
    "gtng4=1.0/6    # probability that number on throwing a dice is 4\n",
    "ngtng4=5.0/6   # probability that number on throwing a dice is not 4\n",
    "\n",
    "prob = (truth*gtng4)/((truth*gtng4)+(lie*ngtng4))  #probability that man speaks truth and the number is exactly 4\n",
    "\n",
    "print(prob)"
   ]
  },
  {
   "cell_type": "code",
   "execution_count": null,
   "metadata": {},
   "outputs": [],
   "source": []
  }
 ],
 "metadata": {
  "kernelspec": {
   "display_name": "Python 2",
   "language": "python",
   "name": "python2"
  },
  "language_info": {
   "codemirror_mode": {
    "name": "ipython",
    "version": 2
   },
   "file_extension": ".py",
   "mimetype": "text/x-python",
   "name": "python",
   "nbconvert_exporter": "python",
   "pygments_lexer": "ipython2",
   "version": "2.7.14"
  }
 },
 "nbformat": 4,
 "nbformat_minor": 2
}
