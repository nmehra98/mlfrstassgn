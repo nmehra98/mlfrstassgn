{
  "nbformat": 4,
  "nbformat_minor": 0,
  "metadata": {
    "colab": {
      "name": "Assignment_13.ipynb",
      "version": "0.3.2",
      "provenance": [],
      "include_colab_link": true
    },
    "kernelspec": {
      "name": "python2",
      "display_name": "Python 2"
    }
  },
  "cells": [
    {
      "cell_type": "markdown",
      "metadata": {
        "id": "view-in-github",
        "colab_type": "text"
      },
      "source": [
        "[View in Colaboratory](https://colab.research.google.com/github/nmehra98/mlfrstassgn/blob/master/Assignment_13.ipynb)"
      ]
    },
    {
      "metadata": {
        "id": "2tKWLcj10vfD",
        "colab_type": "code",
        "colab": {}
      },
      "cell_type": "code",
      "source": [
        "import matplotlib.pyplot as plt\n",
        "import seaborn as sns\n",
        "import pandas as pd\n",
        "import numpy as np\n",
        "from sklearn.preprocessing import*\n",
        "%matplotlib inline"
      ],
      "execution_count": 0,
      "outputs": []
    },
    {
      "metadata": {
        "id": "sv0o8AP90xTQ",
        "colab_type": "code",
        "colab": {
          "base_uri": "https://localhost:8080/",
          "height": 34
        },
        "outputId": "3c844a83-e263-43fb-eaa0-d5923177686f"
      },
      "cell_type": "code",
      "source": [
        "# Question 1\n",
        "\n",
        "from sklearn.datasets import load_digits\n",
        "\n",
        "digit=load_digits()\n",
        "x=digit.data\n",
        "y=digit.target\n",
        "\n",
        "x.shape,y.shape"
      ],
      "execution_count": 4,
      "outputs": [
        {
          "output_type": "execute_result",
          "data": {
            "text/plain": [
              "((1797, 64), (1797,))"
            ]
          },
          "metadata": {
            "tags": []
          },
          "execution_count": 4
        }
      ]
    },
    {
      "metadata": {
        "id": "831Lcr0D01xs",
        "colab_type": "code",
        "colab": {
          "base_uri": "https://localhost:8080/",
          "height": 282
        },
        "outputId": "67479a3f-b4ab-4925-a2b9-0f58aec535b4"
      },
      "cell_type": "code",
      "source": [
        "plt.imshow(x[5].reshape(8,8),cmap=plt.cm.gray)"
      ],
      "execution_count": 5,
      "outputs": [
        {
          "output_type": "execute_result",
          "data": {
            "text/plain": [
              "<matplotlib.image.AxesImage at 0x7ff30afa7790>"
            ]
          },
          "metadata": {
            "tags": []
          },
          "execution_count": 5
        },
        {
          "output_type": "display_data",
          "data": {
            "image/png": "[encoded data removed]",
            "text/plain": [
              "<matplotlib.figure.Figure at 0x7ff30bdad8d0>"
            ]
          },
          "metadata": {
            "tags": []
          }
        }
      ]
    },
    {
      "metadata": {
        "id": "E3fVHn4-0420",
        "colab_type": "code",
        "colab": {}
      },
      "cell_type": "code",
      "source": [
        "# Question 2\n",
        "\n",
        "from sklearn.model_selection import train_test_split\n",
        "x_train,x_test,y_train,y_test=train_test_split(x,y,test_size=0.3)"
      ],
      "execution_count": 0,
      "outputs": []
    },
    {
      "metadata": {
        "id": "C-SVY65U08SC",
        "colab_type": "code",
        "colab": {
          "base_uri": "https://localhost:8080/",
          "height": 85
        },
        "outputId": "cbc227be-c009-42af-aaee-ba3bb020d60c"
      },
      "cell_type": "code",
      "source": [
        "# Question 3\n",
        "\n",
        "# kernel = RPF\n",
        "\n",
        "from sklearn.svm import SVC\n",
        "\n",
        "model=SVC()\n",
        "model.fit(x_train,y_train)"
      ],
      "execution_count": 7,
      "outputs": [
        {
          "output_type": "execute_result",
          "data": {
            "text/plain": [
              "SVC(C=1.0, cache_size=200, class_weight=None, coef0=0.0,\n",
              "  decision_function_shape='ovr', degree=3, gamma='auto', kernel='rbf',\n",
              "  max_iter=-1, probability=False, random_state=None, shrinking=True,\n",
              "  tol=0.001, verbose=False)"
            ]
          },
          "metadata": {
            "tags": []
          },
          "execution_count": 7
        }
      ]
    },
    {
      "metadata": {
        "id": "Qwdz-T_F1BbM",
        "colab_type": "code",
        "colab": {}
      },
      "cell_type": "code",
      "source": [
        "pred=model.predict(x_test)"
      ],
      "execution_count": 0,
      "outputs": []
    },
    {
      "metadata": {
        "id": "4xCJ7f0p1HG5",
        "colab_type": "code",
        "colab": {
          "base_uri": "https://localhost:8080/",
          "height": 272
        },
        "outputId": "a65a6489-9db0-4dc7-e1d1-ef98aac84163"
      },
      "cell_type": "code",
      "source": [
        "from sklearn.metrics import classification_report\n",
        "print(classification_report(y_test,pred))"
      ],
      "execution_count": 9,
      "outputs": [
        {
          "output_type": "stream",
          "text": [
            "             precision    recall  f1-score   support\n",
            "\n",
            "          0       1.00      0.54      0.70        57\n",
            "          1       1.00      0.21      0.35        57\n",
            "          2       1.00      0.09      0.16        56\n",
            "          3       1.00      0.06      0.11        66\n",
            "          4       1.00      0.60      0.75        47\n",
            "          5       1.00      0.47      0.64        51\n",
            "          6       1.00      0.48      0.65        54\n",
            "          7       1.00      0.07      0.12        61\n",
            "          8       1.00      0.06      0.12        48\n",
            "          9       0.11      1.00      0.19        43\n",
            "\n",
            "avg / total       0.93      0.33      0.37       540\n",
            "\n"
          ],
          "name": "stdout"
        }
      ]
    },
    {
      "metadata": {
        "id": "hxazPE0H1NO7",
        "colab_type": "code",
        "colab": {
          "base_uri": "https://localhost:8080/",
          "height": 34
        },
        "outputId": "ff225c38-cc22-43f3-cb0c-050c8af41275"
      },
      "cell_type": "code",
      "source": [
        "from sklearn import metrics\n",
        "metrics.accuracy_score(y_test,pred)"
      ],
      "execution_count": 10,
      "outputs": [
        {
          "output_type": "execute_result",
          "data": {
            "text/plain": [
              "0.3333333333333333"
            ]
          },
          "metadata": {
            "tags": []
          },
          "execution_count": 10
        }
      ]
    },
    {
      "metadata": {
        "id": "bYKfskpLoRYl",
        "colab_type": "code",
        "colab": {
          "base_uri": "https://localhost:8080/",
          "height": 187
        },
        "outputId": "de10e29b-e455-4687-c22d-8c98cebab0d2"
      },
      "cell_type": "code",
      "source": [
        "from sklearn.metrics import confusion_matrix\n",
        "\n",
        "confusion_matrix(y_test,pred)"
      ],
      "execution_count": 11,
      "outputs": [
        {
          "output_type": "execute_result",
          "data": {
            "text/plain": [
              "array([[31,  0,  0,  0,  0,  0,  0,  0,  0, 26],\n",
              "       [ 0, 12,  0,  0,  0,  0,  0,  0,  0, 45],\n",
              "       [ 0,  0,  5,  0,  0,  0,  0,  0,  0, 51],\n",
              "       [ 0,  0,  0,  4,  0,  0,  0,  0,  0, 62],\n",
              "       [ 0,  0,  0,  0, 28,  0,  0,  0,  0, 19],\n",
              "       [ 0,  0,  0,  0,  0, 24,  0,  0,  0, 27],\n",
              "       [ 0,  0,  0,  0,  0,  0, 26,  0,  0, 28],\n",
              "       [ 0,  0,  0,  0,  0,  0,  0,  4,  0, 57],\n",
              "       [ 0,  0,  0,  0,  0,  0,  0,  0,  3, 45],\n",
              "       [ 0,  0,  0,  0,  0,  0,  0,  0,  0, 43]])"
            ]
          },
          "metadata": {
            "tags": []
          },
          "execution_count": 11
        }
      ]
    },
    {
      "metadata": {
        "id": "aMDiu3y01SFe",
        "colab_type": "code",
        "colab": {
          "base_uri": "https://localhost:8080/",
          "height": 85
        },
        "outputId": "8a27826b-8166-45e8-d649-f0b64af90789"
      },
      "cell_type": "code",
      "source": [
        "# kernel = poly\n",
        "\n",
        "model1=SVC(kernel=\"poly\")\n",
        "\n",
        "model1.fit(x_train,y_train)"
      ],
      "execution_count": 13,
      "outputs": [
        {
          "output_type": "execute_result",
          "data": {
            "text/plain": [
              "SVC(C=1.0, cache_size=200, class_weight=None, coef0=0.0,\n",
              "  decision_function_shape='ovr', degree=3, gamma='auto', kernel='poly',\n",
              "  max_iter=-1, probability=False, random_state=None, shrinking=True,\n",
              "  tol=0.001, verbose=False)"
            ]
          },
          "metadata": {
            "tags": []
          },
          "execution_count": 13
        }
      ]
    },
    {
      "metadata": {
        "id": "anXW0pKb1jip",
        "colab_type": "code",
        "colab": {}
      },
      "cell_type": "code",
      "source": [
        "pred1=model1.predict(x_test)"
      ],
      "execution_count": 0,
      "outputs": []
    },
    {
      "metadata": {
        "id": "cjByKzVVpui6",
        "colab_type": "code",
        "colab": {
          "base_uri": "https://localhost:8080/",
          "height": 272
        },
        "outputId": "9e80eddb-132f-455b-9993-aebe87c5e1ec"
      },
      "cell_type": "code",
      "source": [
        "print(classification_report(y_test,pred1))"
      ],
      "execution_count": 25,
      "outputs": [
        {
          "output_type": "stream",
          "text": [
            "             precision    recall  f1-score   support\n",
            "\n",
            "          0       1.00      0.98      0.99        57\n",
            "          1       0.95      1.00      0.97        57\n",
            "          2       1.00      1.00      1.00        56\n",
            "          3       0.99      1.00      0.99        66\n",
            "          4       0.98      1.00      0.99        47\n",
            "          5       0.96      0.98      0.97        51\n",
            "          6       0.98      0.98      0.98        54\n",
            "          7       1.00      0.98      0.99        61\n",
            "          8       0.98      0.94      0.96        48\n",
            "          9       0.98      0.93      0.95        43\n",
            "\n",
            "avg / total       0.98      0.98      0.98       540\n",
            "\n"
          ],
          "name": "stdout"
        }
      ]
    },
    {
      "metadata": {
        "id": "wvan3Jo11rj4",
        "colab_type": "code",
        "colab": {
          "base_uri": "https://localhost:8080/",
          "height": 34
        },
        "outputId": "4850c220-17f3-421f-f5cf-6f18b6ccd1a8"
      },
      "cell_type": "code",
      "source": [
        "metrics.accuracy_score(y_test,pred1)"
      ],
      "execution_count": 15,
      "outputs": [
        {
          "output_type": "execute_result",
          "data": {
            "text/plain": [
              "0.9814814814814815"
            ]
          },
          "metadata": {
            "tags": []
          },
          "execution_count": 15
        }
      ]
    },
    {
      "metadata": {
        "id": "Txx9oDMWpNW-",
        "colab_type": "code",
        "colab": {
          "base_uri": "https://localhost:8080/",
          "height": 187
        },
        "outputId": "414ea7be-f209-4321-bfb9-ebd900f061ce"
      },
      "cell_type": "code",
      "source": [
        "confusion_matrix(y_test,pred1)"
      ],
      "execution_count": 16,
      "outputs": [
        {
          "output_type": "execute_result",
          "data": {
            "text/plain": [
              "array([[56,  0,  0,  0,  1,  0,  0,  0,  0,  0],\n",
              "       [ 0, 57,  0,  0,  0,  0,  0,  0,  0,  0],\n",
              "       [ 0,  0, 56,  0,  0,  0,  0,  0,  0,  0],\n",
              "       [ 0,  0,  0, 66,  0,  0,  0,  0,  0,  0],\n",
              "       [ 0,  0,  0,  0, 47,  0,  0,  0,  0,  0],\n",
              "       [ 0,  0,  0,  0,  0, 50,  1,  0,  0,  0],\n",
              "       [ 0,  1,  0,  0,  0,  0, 53,  0,  0,  0],\n",
              "       [ 0,  0,  0,  0,  0,  0,  0, 60,  0,  1],\n",
              "       [ 0,  2,  0,  0,  0,  1,  0,  0, 45,  0],\n",
              "       [ 0,  0,  0,  1,  0,  1,  0,  0,  1, 40]])"
            ]
          },
          "metadata": {
            "tags": []
          },
          "execution_count": 16
        }
      ]
    },
    {
      "metadata": {
        "id": "IM2AnjNw1ydo",
        "colab_type": "code",
        "colab": {
          "base_uri": "https://localhost:8080/",
          "height": 85
        },
        "outputId": "32633109-e7e6-4575-bf04-f77355232481"
      },
      "cell_type": "code",
      "source": [
        "# kernel = linear\n",
        "\n",
        "model2=SVC(kernel=\"linear\")\n",
        "\n",
        "model2.fit(x_train,y_train)"
      ],
      "execution_count": 17,
      "outputs": [
        {
          "output_type": "execute_result",
          "data": {
            "text/plain": [
              "SVC(C=1.0, cache_size=200, class_weight=None, coef0=0.0,\n",
              "  decision_function_shape='ovr', degree=3, gamma='auto', kernel='linear',\n",
              "  max_iter=-1, probability=False, random_state=None, shrinking=True,\n",
              "  tol=0.001, verbose=False)"
            ]
          },
          "metadata": {
            "tags": []
          },
          "execution_count": 17
        }
      ]
    },
    {
      "metadata": {
        "id": "bOctZEss2B0i",
        "colab_type": "code",
        "colab": {}
      },
      "cell_type": "code",
      "source": [
        "pred2=model2.predict(x_test)"
      ],
      "execution_count": 0,
      "outputs": []
    },
    {
      "metadata": {
        "id": "tcGF6EJVpz8u",
        "colab_type": "code",
        "colab": {
          "base_uri": "https://localhost:8080/",
          "height": 272
        },
        "outputId": "f4354e45-1522-4032-9d86-065893cc6b40"
      },
      "cell_type": "code",
      "source": [
        "print(classification_report(y_test,pred2))"
      ],
      "execution_count": 26,
      "outputs": [
        {
          "output_type": "stream",
          "text": [
            "             precision    recall  f1-score   support\n",
            "\n",
            "          0       1.00      0.98      0.99        57\n",
            "          1       0.89      1.00      0.94        57\n",
            "          2       1.00      0.98      0.99        56\n",
            "          3       0.99      1.00      0.99        66\n",
            "          4       0.96      1.00      0.98        47\n",
            "          5       0.98      1.00      0.99        51\n",
            "          6       0.96      0.98      0.97        54\n",
            "          7       1.00      0.98      0.99        61\n",
            "          8       0.95      0.79      0.86        48\n",
            "          9       0.95      0.93      0.94        43\n",
            "\n",
            "avg / total       0.97      0.97      0.97       540\n",
            "\n"
          ],
          "name": "stdout"
        }
      ]
    },
    {
      "metadata": {
        "id": "ByjMW34u2F2B",
        "colab_type": "code",
        "colab": {
          "base_uri": "https://localhost:8080/",
          "height": 34
        },
        "outputId": "05d8eb43-c30c-46d5-e821-22227628ee26"
      },
      "cell_type": "code",
      "source": [
        "metrics.accuracy_score(y_test,pred2)"
      ],
      "execution_count": 19,
      "outputs": [
        {
          "output_type": "execute_result",
          "data": {
            "text/plain": [
              "0.9685185185185186"
            ]
          },
          "metadata": {
            "tags": []
          },
          "execution_count": 19
        }
      ]
    },
    {
      "metadata": {
        "id": "0F7SNrx1pFFE",
        "colab_type": "code",
        "colab": {
          "base_uri": "https://localhost:8080/",
          "height": 187
        },
        "outputId": "beb05add-033a-4b78-82fd-ba89391d8b30"
      },
      "cell_type": "code",
      "source": [
        "confusion_matrix(y_test,pred2)"
      ],
      "execution_count": 20,
      "outputs": [
        {
          "output_type": "execute_result",
          "data": {
            "text/plain": [
              "array([[56,  0,  0,  0,  1,  0,  0,  0,  0,  0],\n",
              "       [ 0, 57,  0,  0,  0,  0,  0,  0,  0,  0],\n",
              "       [ 0,  0, 55,  1,  0,  0,  0,  0,  0,  0],\n",
              "       [ 0,  0,  0, 66,  0,  0,  0,  0,  0,  0],\n",
              "       [ 0,  0,  0,  0, 47,  0,  0,  0,  0,  0],\n",
              "       [ 0,  0,  0,  0,  0, 51,  0,  0,  0,  0],\n",
              "       [ 0,  1,  0,  0,  0,  0, 53,  0,  0,  0],\n",
              "       [ 0,  0,  0,  0,  0,  0,  0, 60,  0,  1],\n",
              "       [ 0,  6,  0,  0,  1,  0,  2,  0, 38,  1],\n",
              "       [ 0,  0,  0,  0,  0,  1,  0,  0,  2, 40]])"
            ]
          },
          "metadata": {
            "tags": []
          },
          "execution_count": 20
        }
      ]
    },
    {
      "metadata": {
        "id": "XXnyC7Nh2Iyo",
        "colab_type": "code",
        "colab": {
          "base_uri": "https://localhost:8080/",
          "height": 85
        },
        "outputId": "00e89830-c1cd-4db6-edda-6eae38b1daf9"
      },
      "cell_type": "code",
      "source": [
        "# kernel = sigmoid\n",
        "\n",
        "model3=SVC(kernel=\"sigmoid\")\n",
        "\n",
        "model3.fit(x_train,y_train)"
      ],
      "execution_count": 21,
      "outputs": [
        {
          "output_type": "execute_result",
          "data": {
            "text/plain": [
              "SVC(C=1.0, cache_size=200, class_weight=None, coef0=0.0,\n",
              "  decision_function_shape='ovr', degree=3, gamma='auto', kernel='sigmoid',\n",
              "  max_iter=-1, probability=False, random_state=None, shrinking=True,\n",
              "  tol=0.001, verbose=False)"
            ]
          },
          "metadata": {
            "tags": []
          },
          "execution_count": 21
        }
      ]
    },
    {
      "metadata": {
        "id": "s53IvlLr2eS6",
        "colab_type": "code",
        "colab": {}
      },
      "cell_type": "code",
      "source": [
        "pred3=model3.predict(x_test)"
      ],
      "execution_count": 0,
      "outputs": []
    },
    {
      "metadata": {
        "id": "zuvy4Incp4JG",
        "colab_type": "code",
        "colab": {
          "base_uri": "https://localhost:8080/",
          "height": 326
        },
        "outputId": "0549cda3-4084-40a8-ecce-e1cc9f5f7a01"
      },
      "cell_type": "code",
      "source": [
        "print(classification_report(y_test,pred3))"
      ],
      "execution_count": 27,
      "outputs": [
        {
          "output_type": "stream",
          "text": [
            "             precision    recall  f1-score   support\n",
            "\n",
            "          0       0.00      0.00      0.00        57\n",
            "          1       0.00      0.00      0.00        57\n",
            "          2       0.00      0.00      0.00        56\n",
            "          3       0.00      0.00      0.00        66\n",
            "          4       0.00      0.00      0.00        47\n",
            "          5       0.00      0.00      0.00        51\n",
            "          6       0.00      0.00      0.00        54\n",
            "          7       0.00      0.00      0.00        61\n",
            "          8       0.00      0.00      0.00        48\n",
            "          9       0.08      1.00      0.15        43\n",
            "\n",
            "avg / total       0.01      0.08      0.01       540\n",
            "\n"
          ],
          "name": "stdout"
        },
        {
          "output_type": "stream",
          "text": [
            "/usr/local/lib/python2.7/dist-packages/sklearn/metrics/classification.py:1135: UndefinedMetricWarning: Precision and F-score are ill-defined and being set to 0.0 in labels with no predicted samples.\n",
            "  'precision', 'predicted', average, warn_for)\n"
          ],
          "name": "stderr"
        }
      ]
    },
    {
      "metadata": {
        "id": "gCr0yPIa2kco",
        "colab_type": "code",
        "colab": {
          "base_uri": "https://localhost:8080/",
          "height": 34
        },
        "outputId": "560a3bfd-fc97-4a34-dbad-081334d1cab2"
      },
      "cell_type": "code",
      "source": [
        "metrics.accuracy_score(y_test,pred3)"
      ],
      "execution_count": 23,
      "outputs": [
        {
          "output_type": "execute_result",
          "data": {
            "text/plain": [
              "0.07962962962962963"
            ]
          },
          "metadata": {
            "tags": []
          },
          "execution_count": 23
        }
      ]
    },
    {
      "metadata": {
        "id": "kGlBOPiq2nts",
        "colab_type": "code",
        "colab": {
          "base_uri": "https://localhost:8080/",
          "height": 187
        },
        "outputId": "a8c240cf-a1d5-4e01-f645-c31084399a08"
      },
      "cell_type": "code",
      "source": [
        "confusion_matrix(y_test,pred3)"
      ],
      "execution_count": 24,
      "outputs": [
        {
          "output_type": "execute_result",
          "data": {
            "text/plain": [
              "array([[ 0,  0,  0,  0,  0,  0,  0,  0,  0, 57],\n",
              "       [ 0,  0,  0,  0,  0,  0,  0,  0,  0, 57],\n",
              "       [ 0,  0,  0,  0,  0,  0,  0,  0,  0, 56],\n",
              "       [ 0,  0,  0,  0,  0,  0,  0,  0,  0, 66],\n",
              "       [ 0,  0,  0,  0,  0,  0,  0,  0,  0, 47],\n",
              "       [ 0,  0,  0,  0,  0,  0,  0,  0,  0, 51],\n",
              "       [ 0,  0,  0,  0,  0,  0,  0,  0,  0, 54],\n",
              "       [ 0,  0,  0,  0,  0,  0,  0,  0,  0, 61],\n",
              "       [ 0,  0,  0,  0,  0,  0,  0,  0,  0, 48],\n",
              "       [ 0,  0,  0,  0,  0,  0,  0,  0,  0, 43]])"
            ]
          },
          "metadata": {
            "tags": []
          },
          "execution_count": 24
        }
      ]
    },
    {
      "metadata": {
        "id": "Jvb0uUPlplJ6",
        "colab_type": "code",
        "colab": {}
      },
      "cell_type": "code",
      "source": [
        ""
      ],
      "execution_count": 0,
      "outputs": []
    }
  ]
}